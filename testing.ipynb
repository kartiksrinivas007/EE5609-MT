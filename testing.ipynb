{
 "cells": [
  {
   "cell_type": "code",
   "execution_count": 16,
   "metadata": {},
   "outputs": [
    {
     "name": "stdout",
     "output_type": "stream",
     "text": [
      "[1 3 3 3; 2 2 3 2; 1 2 2 3]\n",
      "[1, 1, 2]"
     ]
    },
    {
     "data": {
      "text/plain": [
       "3×5 Matrix{Int64}:\n",
       " 1  3  3  3  1\n",
       " 2  2  3  2  1\n",
       " 1  2  2  3  2"
      ]
     },
     "metadata": {},
     "output_type": "display_data"
    },
    {
     "data": {
      "text/plain": [
       "4×4 Matrix{Int64}:\n",
       " 1  0  0  0\n",
       " 3  2  0  0\n",
       " 0  0  0  0\n",
       " 0  0  0  0"
      ]
     },
     "metadata": {},
     "output_type": "display_data"
    },
    {
     "name": "stdout",
     "output_type": "stream",
     "text": [
      "Exchanging row 1 woth row 2"
     ]
    },
    {
     "data": {
      "text/plain": [
       "4×4 Matrix{Int64}:\n",
       " 3  2  0  0\n",
       " 1  0  0  0\n",
       " 0  0  0  0\n",
       " 0  0  0  0"
      ]
     },
     "metadata": {},
     "output_type": "display_data"
    },
    {
     "name": "stdout",
     "output_type": "stream",
     "text": [
      "Exchanging row 1 woth row 2"
     ]
    },
    {
     "data": {
      "text/plain": [
       "3×5 Matrix{Int64}:\n",
       " 2  2  3  2  1\n",
       " 1  3  3  3  1\n",
       " 1  2  2  3  2"
      ]
     },
     "metadata": {},
     "output_type": "display_data"
    },
    {
     "name": "stdout",
     "output_type": "stream",
     "text": [
      "(1, 1) is a pivot position\n",
      "Subtracting Row 1 from Row 2 \n",
      "factor of subtraction = 3 \n",
      "Subtracting Row 1 from Row 3 \n",
      "factor of subtraction = 3 \n",
      "Exchanging row 2 woth row 3"
     ]
    },
    {
     "data": {
      "text/plain": [
       "3×5 Matrix{Int64}:\n",
       " 2  2  3  2  1\n",
       " 0  3  0  2  1\n",
       " 0  2  1  2  2"
      ]
     },
     "metadata": {},
     "output_type": "display_data"
    },
    {
     "name": "stdout",
     "output_type": "stream",
     "text": [
      "(2, 2) is a pivot position\n",
      "Subtracting Row 2 from Row 3 \n",
      "factor of subtraction = 3 \n",
      "Inside the check for the final Row Pivot\n",
      "Rank = 3\n",
      "Consistent = true\n",
      "[1, 1, 1, 0, 0]\n"
     ]
    },
    {
     "data": {
      "text/plain": [
       "3×5 Matrix{Int64}:\n",
       " 2  2  3  2  1\n",
       " 0  3  0  2  1\n",
       " 0  0  1  3  1"
      ]
     },
     "metadata": {},
     "output_type": "display_data"
    },
    {
     "name": "stdout",
     "output_type": "stream",
     "text": [
      "Exchanging row 1 woth row 2"
     ]
    },
    {
     "data": {
      "text/plain": [
       "3×4 Matrix{Int64}:\n",
       " 2  2  3  2\n",
       " 1  3  3  3\n",
       " 1  2  2  3"
      ]
     },
     "metadata": {},
     "output_type": "display_data"
    },
    {
     "name": "stdout",
     "output_type": "stream",
     "text": [
      "(1, 1) is a pivot position\n",
      "Subtracting Row 1 from Row 2 \n",
      "factor of subtraction = 3 \n",
      "Subtracting Row 1 from Row 3 \n",
      "factor of subtraction = 3 \n",
      "Exchanging row 2 woth row 3"
     ]
    },
    {
     "data": {
      "text/plain": [
       "3×4 Matrix{Int64}:\n",
       " 2  2  3  2\n",
       " 0  3  0  2\n",
       " 0  2  1  2"
      ]
     },
     "metadata": {},
     "output_type": "display_data"
    },
    {
     "name": "stdout",
     "output_type": "stream",
     "text": [
      "(2, 2) is a pivot position\n",
      "Subtracting Row 2 from Row 3 \n",
      "factor of subtraction = 3 \n",
      "Inside the check for the final Row Pivot\n",
      "Rank = 3\n",
      "Consistent = true\n",
      "[1, 1, 1, 0]\n"
     ]
    },
    {
     "data": {
      "text/plain": [
       "(3, [2 2 3 2; 0 3 0 2; 0 0 1 3], true)"
      ]
     },
     "execution_count": 16,
     "metadata": {},
     "output_type": "execute_result"
    }
   ],
   "source": [
    "using NBInclude\n",
    "@nbinclude(\"main.ipynb\")"
   ]
  },
  {
   "cell_type": "code",
   "execution_count": 20,
   "metadata": {},
   "outputs": [
    {
     "data": {
      "text/plain": [
       "3×4 Matrix{Int64}:\n",
       " 1  1  1  1\n",
       " 1  1  1  1\n",
       " 1  1  1  1"
      ]
     },
     "metadata": {},
     "output_type": "display_data"
    },
    {
     "name": "stdout",
     "output_type": "stream",
     "text": [
      "(1, 1) is a pivot position\n",
      "Subtracting Row 1 from Row 2 \n",
      "factor of subtraction = 1 \n",
      "Subtracting Row 1 from Row 3 \n",
      "factor of subtraction = 1 \n",
      "The column 2 is a Zero Column \n",
      "The column 3 is a Zero Column \n",
      "The column 4 is a Zero Column \n",
      "Ending the Process prematurely at row = 2\n",
      "Rank = 1\n",
      "Consistent = true\n",
      "[1, 0, 0, 0]\n"
     ]
    },
    {
     "data": {
      "text/plain": [
       "(1, [1 1 1 1; 0 0 0 0; 0 0 0 0], true)"
      ]
     },
     "execution_count": 20,
     "metadata": {},
     "output_type": "execute_result"
    }
   ],
   "source": [
    "A = ones(Int64, m, n)\n",
    "b = ones(Int64, m)\n",
    "rankconsistency(A, b)"
   ]
  },
  {
   "cell_type": "code",
   "execution_count": null,
   "metadata": {},
   "outputs": [],
   "source": [
    "#test more rigorously with special cases"
   ]
  }
 ],
 "metadata": {
  "kernelspec": {
   "display_name": "Julia 1.7.3",
   "language": "julia",
   "name": "julia-1.7"
  },
  "language_info": {
   "file_extension": ".jl",
   "mimetype": "application/julia",
   "name": "julia",
   "version": "1.7.3"
  },
  "orig_nbformat": 4
 },
 "nbformat": 4,
 "nbformat_minor": 2
}
