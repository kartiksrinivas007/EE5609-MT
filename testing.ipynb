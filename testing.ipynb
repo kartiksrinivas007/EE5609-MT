{
 "cells": [
  {
   "cell_type": "code",
   "execution_count": 1,
   "metadata": {},
   "outputs": [
    {
     "name": "stdout",
     "output_type": "stream",
     "text": [
      "[1 3 3 3; 2 2 3 2; 1 2 2 3]\n",
      "[1, 1, 2]"
     ]
    },
    {
     "data": {
      "text/plain": [
       "3×5 Matrix{Int64}:\n",
       " 1  3  3  3  1\n",
       " 2  2  3  2  1\n",
       " 1  2  2  3  2"
      ]
     },
     "metadata": {},
     "output_type": "display_data"
    },
    {
     "data": {
      "text/plain": [
       "4×4 Matrix{Int64}:\n",
       " 1  0  0  0\n",
       " 3  2  0  0\n",
       " 0  0  0  0\n",
       " 0  0  0  0"
      ]
     },
     "metadata": {},
     "output_type": "display_data"
    },
    {
     "name": "stdout",
     "output_type": "stream",
     "text": [
      "Exchanging row 1 woth row 2"
     ]
    },
    {
     "data": {
      "text/plain": [
       "4×4 Matrix{Int64}:\n",
       " 3  2  0  0\n",
       " 1  0  0  0\n",
       " 0  0  0  0\n",
       " 0  0  0  0"
      ]
     },
     "metadata": {},
     "output_type": "display_data"
    },
    {
     "name": "stdout",
     "output_type": "stream",
     "text": [
      "Exchanging row 1 woth row 2"
     ]
    },
    {
     "data": {
      "text/plain": [
       "3×5 Matrix{Int64}:\n",
       " 2  2  3  2  1\n",
       " 1  3  3  3  1\n",
       " 1  2  2  3  2"
      ]
     },
     "metadata": {},
     "output_type": "display_data"
    },
    {
     "name": "stdout",
     "output_type": "stream",
     "text": [
      "(1, 1) is a pivot position\n",
      "Subtracting Row 1 from Row 2 \n",
      "factor of subtraction = 3 \n",
      "Subtracting Row 1 from Row 3 \n",
      "factor of subtraction = 3 \n",
      "Exchanging row 2 woth row 3"
     ]
    },
    {
     "data": {
      "text/plain": [
       "3×5 Matrix{Int64}:\n",
       " 2  2  3  2  1\n",
       " 0  3  0  2  1\n",
       " 0  2  1  2  2"
      ]
     },
     "metadata": {},
     "output_type": "display_data"
    },
    {
     "name": "stdout",
     "output_type": "stream",
     "text": [
      "(2, 2) is a pivot position\n",
      "Subtracting Row 2 from Row 3 \n",
      "factor of subtraction = 3 \n",
      "Inside the check for the final Row Pivot\n",
      "Rank = 3\n",
      "Consistent = true\n",
      "[1, 1, 1, 0, 0]\n"
     ]
    },
    {
     "data": {
      "text/plain": [
       "3×5 Matrix{Int64}:\n",
       " 2  2  3  2  1\n",
       " 0  3  0  2  1\n",
       " 0  0  1  3  1"
      ]
     },
     "metadata": {},
     "output_type": "display_data"
    },
    {
     "name": "stdout",
     "output_type": "stream",
     "text": [
      "Exchanging row 1 woth row 2"
     ]
    },
    {
     "data": {
      "text/plain": [
       "3×5 Matrix{Int64}:\n",
       " 2  2  3  2  1\n",
       " 1  3  3  3  1\n",
       " 1  2  2  3  2"
      ]
     },
     "metadata": {},
     "output_type": "display_data"
    },
    {
     "name": "stdout",
     "output_type": "stream",
     "text": [
      "(1, 1) is a pivot position\n",
      "Subtracting Row 1 from Row 2 \n",
      "factor of subtraction = 3 \n",
      "Subtracting Row 1 from Row 3 \n",
      "factor of subtraction = 3 \n",
      "Exchanging row 2 woth row 3"
     ]
    },
    {
     "data": {
      "text/plain": [
       "3×5 Matrix{Int64}:\n",
       " 2  2  3  2  1\n",
       " 0  3  0  2  1\n",
       " 0  2  1  2  2"
      ]
     },
     "metadata": {},
     "output_type": "display_data"
    },
    {
     "name": "stdout",
     "output_type": "stream",
     "text": [
      "(2, 2) is a pivot position\n",
      "Subtracting Row 2 from Row 3 \n",
      "factor of subtraction = 3 \n",
      "Inside the check for the final Row Pivot\n",
      "Rank = 3\n",
      "Consistent = true\n",
      "[1, 1, 1, 0, 0]\n"
     ]
    },
    {
     "data": {
      "text/plain": [
       "([2 2 3 2; 0 3 0 2; 0 0 1 3], 3, true)"
      ]
     },
     "execution_count": 1,
     "metadata": {},
     "output_type": "execute_result"
    }
   ],
   "source": [
    "using NBInclude\n",
    "@nbinclude(\"main.ipynb\")"
   ]
  },
  {
   "cell_type": "code",
   "execution_count": 2,
   "metadata": {},
   "outputs": [
    {
     "data": {
      "text/plain": [
       "3×5 Matrix{Int64}:\n",
       " 1  1  1  1  1\n",
       " 1  1  1  1  1\n",
       " 1  1  1  1  1"
      ]
     },
     "metadata": {},
     "output_type": "display_data"
    },
    {
     "name": "stdout",
     "output_type": "stream",
     "text": [
      "(1, 1) is a pivot position\n",
      "Subtracting Row 1 from Row 2 \n",
      "factor of subtraction = 1 \n",
      "Subtracting Row 1 from Row 3 \n",
      "factor of subtraction = 1 \n",
      "The column 2 is a Zero Column \n",
      "The column 3 is a Zero Column \n",
      "The column 4 is a Zero Column \n",
      "The column 5 is a Zero Column \n",
      "Ending the Process prematurely at row = 2\n",
      "Rank = 1\n",
      "Consistent = true\n",
      "[1, 0, 0, 0, 0]\n"
     ]
    },
    {
     "data": {
      "text/plain": [
       "([1 1 1 1; 0 0 0 0; 0 0 0 0], 1, true)"
      ]
     },
     "execution_count": 2,
     "metadata": {},
     "output_type": "execute_result"
    }
   ],
   "source": [
    "A = ones(Int64, m, n)\n",
    "b = ones(Int64, m)\n",
    "rankconsistency(A, b)"
   ]
  },
  {
   "cell_type": "code",
   "execution_count": 3,
   "metadata": {},
   "outputs": [],
   "source": [
    "#test more rigorously with special cases"
   ]
  },
  {
   "cell_type": "code",
   "execution_count": 4,
   "metadata": {},
   "outputs": [
    {
     "data": {
      "text/plain": [
       "UpperEchelonNew"
      ]
     },
     "execution_count": 4,
     "metadata": {},
     "output_type": "execute_result"
    }
   ],
   "source": [
    "include(\"EE5609TeamID15.jl\")"
   ]
  },
  {
   "cell_type": "code",
   "execution_count": 5,
   "metadata": {},
   "outputs": [],
   "source": [
    "using JLD2"
   ]
  },
  {
   "cell_type": "code",
   "execution_count": 6,
   "metadata": {},
   "outputs": [
    {
     "name": "stdout",
     "output_type": "stream",
     "text": [
      "(m = 2, n = 3, A = [0 0 1; 0 0 1], b = [3, 0], U = [0 0 1; 0 0 0], r = 1, consistent = false)"
     ]
    }
   ],
   "source": [
    "@load(\"Examples_Prog_1/Samples_Prog_1.jld2\")\n",
    "print(Samples[1])"
   ]
  },
  {
   "cell_type": "code",
   "execution_count": 9,
   "metadata": {},
   "outputs": [
    {
     "data": {
      "text/plain": [
       "([3 3 … 3 2; 0 3 … 2 0; … ; 0 0 … 3 0; 0 0 … 0 3], 100, true)"
      ]
     },
     "execution_count": 9,
     "metadata": {},
     "output_type": "execute_result"
    }
   ],
   "source": [
    "A = rand(0:3, (100, 100))\n",
    "b = rand(0:3, (100))\n",
    "U , rank, consistent = rankconsistencyTeamID15(A, b)"
   ]
  },
  {
   "cell_type": "code",
   "execution_count": null,
   "metadata": {},
   "outputs": [
    {
     "name": "stdout",
     "output_type": "stream",
     "text": [
      "----------------------------Testing Case 2 ------------------------------------ \n",
      "\n",
      "-------------------Test case 2 has passed -------------------------------\n",
      "----------------------------Testing Case 3 ------------------------------------ \n",
      "\n",
      "-------------------Test case 3 has passed -------------------------------\n",
      "----------------------------Testing Case 4 ------------------------------------ \n",
      "\n",
      "-------------------Test case 4 has passed -------------------------------\n",
      "----------------------------Testing Case 5 ------------------------------------ \n",
      "\n",
      "-------------------Test case 5 has passed -------------------------------\n",
      "----------------------------Testing Case 6 ------------------------------------ \n",
      "\n",
      "-------------------Test case 6 has passed -------------------------------\n",
      "----------------------------Testing Case 7 ------------------------------------ \n",
      "\n",
      "-------------------Test case 7 has passed -------------------------------\n",
      "----------------------------Testing Case 8 ------------------------------------ \n",
      "\n",
      "-------------------Test case 8 has passed -------------------------------\n",
      "----------------------------Testing Case 9 ------------------------------------ \n",
      "\n",
      "-------------------Test case 9 has passed -------------------------------\n",
      "----------------------------Testing Case 10 ------------------------------------ \n",
      "\n",
      "-------------------Test case 10 has passed -------------------------------\n",
      "----------------------------Testing Case 11 ------------------------------------ \n",
      "\n",
      "-------------------Test case 11 has passed -------------------------------\n",
      "----------------------------Testing Case 12 ------------------------------------ \n",
      "\n",
      "-------------------Test case 12 has passed -------------------------------\n",
      "----------------------------Testing Case 13 ------------------------------------ \n",
      "\n",
      "-------------------Test case 13 has passed -------------------------------\n",
      "----------------------------Testing Case 14 ------------------------------------ \n",
      "\n",
      "-------------------Test case 14 has passed -------------------------------\n",
      "----------------------------Testing Case 15 ------------------------------------ \n",
      "\n",
      "-------------------Test case 15 has passed -------------------------------\n",
      "----------------------------Testing Case 16 ------------------------------------ \n",
      "\n",
      "-------------------Test case 16 has passed -------------------------------\n",
      "----------------------------Testing Case 17 ------------------------------------ \n",
      "\n",
      "-------------------Test case 17 has passed -------------------------------\n",
      "----------------------------Testing Case 18 ------------------------------------ \n",
      "\n",
      "-------------------Test case 18 has passed -------------------------------\n",
      "----------------------------Testing Case 19 ------------------------------------ \n",
      "\n",
      "-------------------Test case 19 has passed -------------------------------\n",
      "----------------------------Testing Case 20 ------------------------------------ \n",
      "\n",
      "-------------------Test case 20 has passed -------------------------------\n",
      "----------------------------Testing Case 21 ------------------------------------ \n",
      "\n",
      "-------------------Test case 21 has passed -------------------------------\n",
      "----------------------------Testing Case 22 ------------------------------------ \n",
      "\n",
      "-------------------Test case 22 has passed -------------------------------\n",
      "----------------------------Testing Case 23 ------------------------------------ \n",
      "\n",
      "-------------------Test case 23 has passed -------------------------------\n",
      "----------------------------Testing Case 24 ------------------------------------ \n",
      "\n",
      "-------------------Test case 24 has passed -------------------------------\n",
      "----------------------------Testing Case 25 ------------------------------------ \n",
      "\n",
      "-------------------Test case 25 has passed -------------------------------\n",
      "----------------------------Testing Case 26 ------------------------------------ \n"
     ]
    }
   ],
   "source": [
    "num = 26\n",
    "i = 1\n",
    "for sample in Samples\n",
    "    @printf(\"----------------------------Testing Case %d ------------------------------------ \\n\", i+1)\n",
    "    # print(\"Input Matrix = \")\n",
    "    # display(sample.A)\n",
    "    U, Rank, consistent = rankconsistencyTeamID15(sample.A, sample.b)\n",
    "    i = i + 1\n",
    "    if(i >= num)\n",
    "        break\n",
    "    end\n",
    "    if(consistent == sample.consistent && sample.r == Rank && sample.U == U)\n",
    "        @printf(\"\\n-------------------Test case %d has passed -------------------------------\\n\", i)\n",
    "    else\n",
    "        @printf(\"\\n-------------------Test case %d has failed -------------------------------\\n\", i)\n",
    "        println(\"Is supposed to be \", sample.consistent, \" but found to be = \", consistent)\n",
    "        @printf(\"\\n %d != %d\\n\", Rank, sample.r)\n",
    "        # print(\"Expected U = \")\n",
    "        # display(sample.U)\n",
    "    end\n",
    "end"
   ]
  },
  {
   "cell_type": "code",
   "execution_count": null,
   "metadata": {},
   "outputs": [],
   "source": []
  }
 ],
 "metadata": {
  "kernelspec": {
   "display_name": "Julia 1.7.3",
   "language": "julia",
   "name": "julia-1.7"
  },
  "language_info": {
   "file_extension": ".jl",
   "mimetype": "application/julia",
   "name": "julia",
   "version": "1.7.3"
  },
  "orig_nbformat": 4
 },
 "nbformat": 4,
 "nbformat_minor": 2
}
