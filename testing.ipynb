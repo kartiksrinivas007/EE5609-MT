{
 "cells": [
  {
   "cell_type": "code",
   "execution_count": 187,
   "metadata": {},
   "outputs": [
    {
     "name": "stdout",
     "output_type": "stream",
     "text": [
      "[1 3 3 3; 2 2 3 2; 1 2 2 3]\n",
      "[1, 1, 2]"
     ]
    },
    {
     "data": {
      "text/plain": [
       "3×5 Matrix{Int64}:\n",
       " 1  3  3  3  1\n",
       " 2  2  3  2  1\n",
       " 1  2  2  3  2"
      ]
     },
     "metadata": {},
     "output_type": "display_data"
    },
    {
     "data": {
      "text/plain": [
       "4×4 Matrix{Int64}:\n",
       " 1  0  0  0\n",
       " 3  2  0  0\n",
       " 0  0  0  0\n",
       " 0  0  0  0"
      ]
     },
     "metadata": {},
     "output_type": "display_data"
    },
    {
     "name": "stdout",
     "output_type": "stream",
     "text": [
      "Exchanging row 1 woth row 2"
     ]
    },
    {
     "data": {
      "text/plain": [
       "4×4 Matrix{Int64}:\n",
       " 3  2  0  0\n",
       " 1  0  0  0\n",
       " 0  0  0  0\n",
       " 0  0  0  0"
      ]
     },
     "metadata": {},
     "output_type": "display_data"
    },
    {
     "name": "stdout",
     "output_type": "stream",
     "text": [
      "Exchanging row 1 woth row 2"
     ]
    },
    {
     "data": {
      "text/plain": [
       "3×5 Matrix{Int64}:\n",
       " 2  2  3  2  1\n",
       " 1  3  3  3  1\n",
       " 1  2  2  3  2"
      ]
     },
     "metadata": {},
     "output_type": "display_data"
    },
    {
     "name": "stdout",
     "output_type": "stream",
     "text": [
      "(1, 1) is a pivot position\n",
      "Subtracting Row 1 from Row 2 \n",
      "factor of subtraction = 3 \n",
      "Subtracting Row 1 from Row 3 \n",
      "factor of subtraction = 3 \n",
      "Exchanging row 2 woth row 3"
     ]
    },
    {
     "data": {
      "text/plain": [
       "3×5 Matrix{Int64}:\n",
       " 2  2  3  2  1\n",
       " 0  3  0  2  1\n",
       " 0  2  1  2  2"
      ]
     },
     "metadata": {},
     "output_type": "display_data"
    },
    {
     "name": "stdout",
     "output_type": "stream",
     "text": [
      "(2, 2) is a pivot position\n",
      "Subtracting Row 2 from Row 3 \n",
      "factor of subtraction = 3 \n",
      "Inside the check for the final Row Pivot\n",
      "Rank = 3\n",
      "Consistent = true\n",
      "[1, 1, 1, 0, 0]\n"
     ]
    },
    {
     "data": {
      "text/plain": [
       "3×5 Matrix{Int64}:\n",
       " 2  2  3  2  1\n",
       " 0  3  0  2  1\n",
       " 0  0  1  3  1"
      ]
     },
     "metadata": {},
     "output_type": "display_data"
    },
    {
     "name": "stdout",
     "output_type": "stream",
     "text": [
      "Exchanging row 1 woth row 2"
     ]
    },
    {
     "data": {
      "text/plain": [
       "3×5 Matrix{Int64}:\n",
       " 2  2  3  2  1\n",
       " 1  3  3  3  1\n",
       " 1  2  2  3  2"
      ]
     },
     "metadata": {},
     "output_type": "display_data"
    },
    {
     "name": "stdout",
     "output_type": "stream",
     "text": [
      "(1, 1) is a pivot position\n",
      "Subtracting Row 1 from Row 2 \n",
      "factor of subtraction = 3 \n",
      "Subtracting Row 1 from Row 3 \n",
      "factor of subtraction = 3 \n",
      "Exchanging row 2 woth row 3"
     ]
    },
    {
     "data": {
      "text/plain": [
       "3×5 Matrix{Int64}:\n",
       " 2  2  3  2  1\n",
       " 0  3  0  2  1\n",
       " 0  2  1  2  2"
      ]
     },
     "metadata": {},
     "output_type": "display_data"
    },
    {
     "name": "stdout",
     "output_type": "stream",
     "text": [
      "(2, 2) is a pivot position\n",
      "Subtracting Row 2 from Row 3 \n",
      "factor of subtraction = 3 \n",
      "Inside the check for the final Row Pivot\n",
      "Rank = 3\n",
      "Consistent = true\n",
      "[1, 1, 1, 0, 0]\n"
     ]
    },
    {
     "data": {
      "text/plain": [
       "(3, [1 3 3 3; 2 2 3 2; 1 2 2 3], true)"
      ]
     },
     "execution_count": 187,
     "metadata": {},
     "output_type": "execute_result"
    }
   ],
   "source": [
    "using NBInclude\n",
    "@nbinclude(\"main.ipynb\")"
   ]
  },
  {
   "cell_type": "code",
   "execution_count": 188,
   "metadata": {},
   "outputs": [
    {
     "data": {
      "text/plain": [
       "3×5 Matrix{Int64}:\n",
       " 1  1  1  1  1\n",
       " 1  1  1  1  1\n",
       " 1  1  1  1  1"
      ]
     },
     "metadata": {},
     "output_type": "display_data"
    },
    {
     "name": "stdout",
     "output_type": "stream",
     "text": [
      "(1, 1) is a pivot position\n",
      "Subtracting Row 1 from Row 2 \n",
      "factor of subtraction = 1 \n",
      "Subtracting Row 1 from Row 3 \n",
      "factor of subtraction = 1 \n",
      "The column 2 is a Zero Column \n",
      "The column 3 is a Zero Column \n",
      "The column 4 is a Zero Column \n",
      "The column 5 is a Zero Column \n",
      "Ending the Process prematurely at row = 2\n",
      "Rank = 1\n",
      "Consistent = true\n",
      "[1, 0, 0, 0, 0]\n"
     ]
    },
    {
     "data": {
      "text/plain": [
       "(1, [1 1 1 1; 1 1 1 1; 1 1 1 1], true)"
      ]
     },
     "execution_count": 188,
     "metadata": {},
     "output_type": "execute_result"
    }
   ],
   "source": [
    "A = ones(Int64, m, n)\n",
    "b = ones(Int64, m)\n",
    "rankconsistency(A, b)"
   ]
  },
  {
   "cell_type": "code",
   "execution_count": 189,
   "metadata": {},
   "outputs": [],
   "source": [
    "#test more rigorously with special cases"
   ]
  },
  {
   "cell_type": "code",
   "execution_count": 190,
   "metadata": {},
   "outputs": [
    {
     "data": {
      "text/plain": [
       "UpperEchelonNew"
      ]
     },
     "execution_count": 190,
     "metadata": {},
     "output_type": "execute_result"
    }
   ],
   "source": [
    "include(\"EE5609TeamID15.jl\")"
   ]
  },
  {
   "cell_type": "code",
   "execution_count": 191,
   "metadata": {},
   "outputs": [],
   "source": [
    "using JLD2"
   ]
  },
  {
   "cell_type": "code",
   "execution_count": 192,
   "metadata": {},
   "outputs": [
    {
     "name": "stdout",
     "output_type": "stream",
     "text": [
      "(m = 2, n = 3, A = [0 0 1; 0 0 1], b = [3, 0], U = [0 0 1; 0 0 0], r = 1, consistent = false)"
     ]
    }
   ],
   "source": [
    "@load(\"Examples_Prog_1/Samples_Prog_1.jld2\")\n",
    "print(Samples[1])"
   ]
  },
  {
   "cell_type": "code",
   "execution_count": 193,
   "metadata": {},
   "outputs": [
    {
     "name": "stdout",
     "output_type": "stream",
     "text": [
      "\n",
      " ###################### Testing Case 1 ###################################### \n",
      "Input Matrix = "
     ]
    },
    {
     "data": {
      "text/plain": [
       "2×3 Matrix{Int64}:\n",
       " 0  0  1\n",
       " 0  0  1"
      ]
     },
     "metadata": {},
     "output_type": "display_data"
    },
    {
     "name": "stdout",
     "output_type": "stream",
     "text": [
      "The column 1 is a Zero Column \n",
      "The column 2 is a Zero Column \n"
     ]
    },
    {
     "data": {
      "text/plain": [
       "2×4 Matrix{Int64}:\n",
       " 0  0  1  3\n",
       " 0  0  1  0"
      ]
     },
     "metadata": {},
     "output_type": "display_data"
    },
    {
     "name": "stdout",
     "output_type": "stream",
     "text": [
      "(1, 3) is a pivot position\n",
      "Subtracting Row 1 from Row 2 \n",
      "factor of subtraction = 1 \n",
      "Inside the check for the final Row Pivot\n",
      "Rank = 1\n",
      "Consistent = false\n",
      "[0, 0, 1, 1]\n",
      "~~~~~~~~Row reduction process complete~~~~~\n"
     ]
    },
    {
     "data": {
      "text/plain": [
       "2×3 Matrix{Int64}:\n",
       " 0  0  1\n",
       " 0  0  0"
      ]
     },
     "metadata": {},
     "output_type": "display_data"
    },
    {
     "name": "stdout",
     "output_type": "stream",
     "text": [
      "\n",
      "-------------------Test case 1 has passed -------------------------------\n",
      "\n",
      " ###################### Testing Case 2 ###################################### \n",
      "Input Matrix = "
     ]
    },
    {
     "data": {
      "text/plain": [
       "2×3 Matrix{Int64}:\n",
       " 0  1  1\n",
       " 2  0  1"
      ]
     },
     "metadata": {},
     "output_type": "display_data"
    },
    {
     "name": "stdout",
     "output_type": "stream",
     "text": [
      "Exchanging row 1 woth row 2"
     ]
    },
    {
     "data": {
      "text/plain": [
       "2×4 Matrix{Int64}:\n",
       " 2  0  1  2\n",
       " 0  1  1  0"
      ]
     },
     "metadata": {},
     "output_type": "display_data"
    },
    {
     "name": "stdout",
     "output_type": "stream",
     "text": [
      "(1, 1) is a pivot position\n",
      "Subtracting Row 1 from Row 2 \n",
      "factor of subtraction = 0 \n",
      "Inside the check for the final Row Pivot\n",
      "Rank = 2\n",
      "Consistent = true\n",
      "[1, 1, 0, 0]\n",
      "~~~~~~~~Row reduction process complete~~~~~\n"
     ]
    },
    {
     "data": {
      "text/plain": [
       "2×3 Matrix{Int64}:\n",
       " 2  0  1\n",
       " 0  1  1"
      ]
     },
     "metadata": {},
     "output_type": "display_data"
    },
    {
     "name": "stdout",
     "output_type": "stream",
     "text": [
      "\n",
      "-------------------Test case 2 has passed -------------------------------\n",
      "\n",
      " ###################### Testing Case 3 ###################################### \n",
      "Input Matrix = "
     ]
    },
    {
     "data": {
      "text/plain": [
       "2×3 Matrix{Int64}:\n",
       " 0  1  1\n",
       " 0  1  1"
      ]
     },
     "metadata": {},
     "output_type": "display_data"
    },
    {
     "name": "stdout",
     "output_type": "stream",
     "text": [
      "The column 1 is a Zero Column \n"
     ]
    },
    {
     "data": {
      "text/plain": [
       "2×4 Matrix{Int64}:\n",
       " 0  1  1  1\n",
       " 0  1  1  3"
      ]
     },
     "metadata": {},
     "output_type": "display_data"
    },
    {
     "name": "stdout",
     "output_type": "stream",
     "text": [
      "(1, 2) is a pivot position\n",
      "Subtracting Row 1 from Row 2 \n",
      "factor of subtraction = 1 \n",
      "Inside the check for the final Row Pivot\n",
      "Rank = 1\n",
      "Consistent = false\n",
      "[0, 1, 0, 1]\n",
      "~~~~~~~~Row reduction process complete~~~~~\n"
     ]
    },
    {
     "data": {
      "text/plain": [
       "2×3 Matrix{Int64}:\n",
       " 0  1  1\n",
       " 0  0  0"
      ]
     },
     "metadata": {},
     "output_type": "display_data"
    },
    {
     "name": "stdout",
     "output_type": "stream",
     "text": [
      "\n",
      "-------------------Test case 3 has passed -------------------------------\n",
      "\n",
      " ###################### Testing Case 4 ###################################### \n",
      "Input Matrix = "
     ]
    },
    {
     "data": {
      "text/plain": [
       "2×3 Matrix{Int64}:\n",
       " 2  0  0\n",
       " 2  0  2"
      ]
     },
     "metadata": {},
     "output_type": "display_data"
    },
    {
     "data": {
      "text/plain": [
       "2×4 Matrix{Int64}:\n",
       " 2  0  0  0\n",
       " 2  0  2  1"
      ]
     },
     "metadata": {},
     "output_type": "display_data"
    },
    {
     "name": "stdout",
     "output_type": "stream",
     "text": [
      "(1, 1) is a pivot position\n",
      "Subtracting Row 1 from Row 2 \n",
      "factor of subtraction = 1 \n",
      "Inside the check for the final Row Pivot\n",
      "Rank = 2\n",
      "Consistent = true\n",
      "[1, 0, 1, 0]\n",
      "~~~~~~~~Row reduction process complete~~~~~\n"
     ]
    },
    {
     "data": {
      "text/plain": [
       "2×3 Matrix{Int64}:\n",
       " 2  0  0\n",
       " 0  0  2"
      ]
     },
     "metadata": {},
     "output_type": "display_data"
    },
    {
     "name": "stdout",
     "output_type": "stream",
     "text": [
      "\n",
      "-------------------Test case 4 has passed -------------------------------\n",
      "\n",
      " ###################### Testing Case 5 ###################################### \n",
      "Input Matrix = "
     ]
    },
    {
     "data": {
      "text/plain": [
       "2×3 Matrix{Int64}:\n",
       " 0  0  0\n",
       " 2  3  0"
      ]
     },
     "metadata": {},
     "output_type": "display_data"
    },
    {
     "name": "stdout",
     "output_type": "stream",
     "text": [
      "Exchanging row 1 woth row 2"
     ]
    },
    {
     "data": {
      "text/plain": [
       "2×4 Matrix{Int64}:\n",
       " 2  3  0  0\n",
       " 0  0  0  2"
      ]
     },
     "metadata": {},
     "output_type": "display_data"
    },
    {
     "name": "stdout",
     "output_type": "stream",
     "text": [
      "(1, 1) is a pivot position\n",
      "Subtracting Row 1 from Row 2 \n",
      "factor of subtraction = 0 \n",
      "Inside the check for the final Row Pivot\n",
      "Rank = 1\n",
      "Consistent = false\n",
      "[1, 0, 0, 1]\n",
      "~~~~~~~~Row reduction process complete~~~~~\n"
     ]
    },
    {
     "data": {
      "text/plain": [
       "2×3 Matrix{Int64}:\n",
       " 2  3  0\n",
       " 0  0  0"
      ]
     },
     "metadata": {},
     "output_type": "display_data"
    },
    {
     "name": "stdout",
     "output_type": "stream",
     "text": [
      "\n",
      "-------------------Test case 5 has passed -------------------------------\n",
      "\n",
      " ###################### Testing Case 6 ###################################### \n",
      "Input Matrix = "
     ]
    },
    {
     "data": {
      "text/plain": [
       "3×2 Matrix{Int64}:\n",
       " 2  3\n",
       " 0  0\n",
       " 3  3"
      ]
     },
     "metadata": {},
     "output_type": "display_data"
    },
    {
     "name": "stdout",
     "output_type": "stream",
     "text": [
      "Exchanging row 1 woth row 3"
     ]
    },
    {
     "data": {
      "text/plain": [
       "3×3 Matrix{Int64}:\n",
       " 3  3  2\n",
       " 0  0  2\n",
       " 2  3  1"
      ]
     },
     "metadata": {},
     "output_type": "display_data"
    },
    {
     "name": "stdout",
     "output_type": "stream",
     "text": [
      "(1, 1) is a pivot position\n",
      "Subtracting Row 1 from Row 2 \n",
      "factor of subtraction = 0 \n",
      "Subtracting Row 1 from Row 3 \n",
      "factor of subtraction = 3 \n",
      "Exchanging row 2 woth row 3"
     ]
    },
    {
     "data": {
      "text/plain": [
       "3×3 Matrix{Int64}:\n",
       " 3  3  2\n",
       " 0  1  0\n",
       " 0  0  2"
      ]
     },
     "metadata": {},
     "output_type": "display_data"
    },
    {
     "name": "stdout",
     "output_type": "stream",
     "text": [
      "(2, 2) is a pivot position\n",
      "Subtracting Row 2 from Row 3 \n",
      "factor of subtraction = 0 \n",
      "Inside the check for the final Row Pivot\n",
      "Rank = 2\n",
      "Consistent = false\n",
      "[1, 1, 1]\n",
      "~~~~~~~~Row reduction process complete~~~~~\n"
     ]
    },
    {
     "data": {
      "text/plain": [
       "3×2 Matrix{Int64}:\n",
       " 3  3\n",
       " 0  1\n",
       " 0  0"
      ]
     },
     "metadata": {},
     "output_type": "display_data"
    },
    {
     "name": "stdout",
     "output_type": "stream",
     "text": [
      "\n",
      "-------------------Test case 6 has passed -------------------------------\n",
      "\n",
      " ###################### Testing Case 7 ###################################### \n",
      "Input Matrix = "
     ]
    },
    {
     "data": {
      "text/plain": [
       "3×2 Matrix{Int64}:\n",
       " 0  2\n",
       " 1  0\n",
       " 3  0"
      ]
     },
     "metadata": {},
     "output_type": "display_data"
    },
    {
     "name": "stdout",
     "output_type": "stream",
     "text": [
      "Exchanging row 1 woth row 3"
     ]
    },
    {
     "data": {
      "text/plain": [
       "3×3 Matrix{Int64}:\n",
       " 3  0  0\n",
       " 1  0  0\n",
       " 0  2  0"
      ]
     },
     "metadata": {},
     "output_type": "display_data"
    },
    {
     "name": "stdout",
     "output_type": "stream",
     "text": [
      "(1, 1) is a pivot position\n",
      "Subtracting Row 1 from Row 2 \n",
      "factor of subtraction = 2 \n",
      "Subtracting Row 1 from Row 3 \n",
      "factor of subtraction = 0 \n",
      "Exchanging row 2 woth row 3"
     ]
    },
    {
     "data": {
      "text/plain": [
       "3×3 Matrix{Int64}:\n",
       " 3  0  0\n",
       " 0  2  0\n",
       " 0  0  0"
      ]
     },
     "metadata": {},
     "output_type": "display_data"
    },
    {
     "name": "stdout",
     "output_type": "stream",
     "text": [
      "(2, 2) is a pivot position\n",
      "Subtracting Row 2 from Row 3 \n",
      "factor of subtraction = 0 \n",
      "Inside the check for the final Row Pivot\n",
      "Rank = 2\n",
      "Consistent = true\n",
      "[1, 1, 0]\n",
      "~~~~~~~~Row reduction process complete~~~~~\n"
     ]
    },
    {
     "data": {
      "text/plain": [
       "3×2 Matrix{Int64}:\n",
       " 3  0\n",
       " 0  2\n",
       " 0  0"
      ]
     },
     "metadata": {},
     "output_type": "display_data"
    },
    {
     "name": "stdout",
     "output_type": "stream",
     "text": [
      "\n",
      "-------------------Test case 7 has passed -------------------------------\n",
      "\n",
      " ###################### Testing Case 8 ###################################### \n",
      "Input Matrix = "
     ]
    },
    {
     "data": {
      "text/plain": [
       "3×2 Matrix{Int64}:\n",
       " 3  1\n",
       " 3  3\n",
       " 0  1"
      ]
     },
     "metadata": {},
     "output_type": "display_data"
    },
    {
     "data": {
      "text/plain": [
       "3×3 Matrix{Int64}:\n",
       " 3  1  3\n",
       " 3  3  3\n",
       " 0  1  3"
      ]
     },
     "metadata": {},
     "output_type": "display_data"
    },
    {
     "name": "stdout",
     "output_type": "stream",
     "text": [
      "(1, 1) is a pivot position\n",
      "Subtracting Row 1 from Row 2 \n",
      "factor of subtraction = 1 \n",
      "Subtracting Row 1 from Row 3 \n",
      "factor of subtraction = 0 \n"
     ]
    },
    {
     "data": {
      "text/plain": [
       "3×3 Matrix{Int64}:\n",
       " 3  1  3\n",
       " 0  2  0\n",
       " 0  1  3"
      ]
     },
     "metadata": {},
     "output_type": "display_data"
    },
    {
     "name": "stdout",
     "output_type": "stream",
     "text": [
      "(2, 2) is a pivot position\n",
      "Subtracting Row 2 from Row 3 \n",
      "factor of subtraction = 3 \n",
      "Inside the check for the final Row Pivot\n",
      "Rank = 2\n",
      "Consistent = false\n",
      "[1, 1, 1]\n",
      "~~~~~~~~Row reduction process complete~~~~~\n"
     ]
    },
    {
     "data": {
      "text/plain": [
       "3×2 Matrix{Int64}:\n",
       " 3  1\n",
       " 0  2\n",
       " 0  0"
      ]
     },
     "metadata": {},
     "output_type": "display_data"
    },
    {
     "name": "stdout",
     "output_type": "stream",
     "text": [
      "\n",
      "-------------------Test case 8 has passed -------------------------------\n",
      "\n",
      " ###################### Testing Case 9 ###################################### \n",
      "Input Matrix = "
     ]
    },
    {
     "data": {
      "text/plain": [
       "3×2 Matrix{Int64}:\n",
       " 2  2\n",
       " 3  0\n",
       " 2  0"
      ]
     },
     "metadata": {},
     "output_type": "display_data"
    },
    {
     "name": "stdout",
     "output_type": "stream",
     "text": [
      "Exchanging row 1 woth row 2"
     ]
    },
    {
     "data": {
      "text/plain": [
       "3×3 Matrix{Int64}:\n",
       " 3  0  2\n",
       " 2  2  2\n",
       " 2  0  1"
      ]
     },
     "metadata": {},
     "output_type": "display_data"
    },
    {
     "name": "stdout",
     "output_type": "stream",
     "text": [
      "(1, 1) is a pivot position\n",
      "Subtracting Row 1 from Row 2 \n",
      "factor of subtraction = 3 \n",
      "Subtracting Row 1 from Row 3 \n",
      "factor of subtraction = 3 \n"
     ]
    },
    {
     "data": {
      "text/plain": [
       "3×3 Matrix{Int64}:\n",
       " 3  0  2\n",
       " 0  2  3\n",
       " 0  0  0"
      ]
     },
     "metadata": {},
     "output_type": "display_data"
    },
    {
     "name": "stdout",
     "output_type": "stream",
     "text": [
      "(2, 2) is a pivot position\n",
      "Subtracting Row 2 from Row 3 \n",
      "factor of subtraction = 0 \n",
      "Inside the check for the final Row Pivot\n",
      "Rank = 2\n",
      "Consistent = true\n",
      "[1, 1, 0]\n",
      "~~~~~~~~Row reduction process complete~~~~~\n"
     ]
    },
    {
     "data": {
      "text/plain": [
       "3×2 Matrix{Int64}:\n",
       " 3  0\n",
       " 0  2\n",
       " 0  0"
      ]
     },
     "metadata": {},
     "output_type": "display_data"
    },
    {
     "name": "stdout",
     "output_type": "stream",
     "text": [
      "\n",
      "-------------------Test case 9 has passed -------------------------------\n",
      "\n",
      " ###################### Testing Case 10 ###################################### \n",
      "Input Matrix = "
     ]
    },
    {
     "data": {
      "text/plain": [
       "3×2 Matrix{Int64}:\n",
       " 2  1\n",
       " 3  2\n",
       " 2  3"
      ]
     },
     "metadata": {},
     "output_type": "display_data"
    },
    {
     "name": "stdout",
     "output_type": "stream",
     "text": [
      "Exchanging row 1 woth row 2"
     ]
    },
    {
     "data": {
      "text/plain": [
       "3×3 Matrix{Int64}:\n",
       " 3  2  3\n",
       " 2  1  1\n",
       " 2  3  1"
      ]
     },
     "metadata": {},
     "output_type": "display_data"
    },
    {
     "name": "stdout",
     "output_type": "stream",
     "text": [
      "(1, 1) is a pivot position\n",
      "Subtracting Row 1 from Row 2 \n",
      "factor of subtraction = 3 \n",
      "Subtracting Row 1 from Row 3 \n",
      "factor of subtraction = 3 \n",
      "Exchanging row 2 woth row 3"
     ]
    },
    {
     "data": {
      "text/plain": [
       "3×3 Matrix{Int64}:\n",
       " 3  2  3\n",
       " 0  2  3\n",
       " 0  0  3"
      ]
     },
     "metadata": {},
     "output_type": "display_data"
    },
    {
     "name": "stdout",
     "output_type": "stream",
     "text": [
      "(2, 2) is a pivot position\n",
      "Subtracting Row 2 from Row 3 \n",
      "factor of subtraction = 0 \n",
      "Inside the check for the final Row Pivot\n",
      "Rank = 2\n",
      "Consistent = false\n",
      "[1, 1, 1]\n",
      "~~~~~~~~Row reduction process complete~~~~~\n"
     ]
    },
    {
     "data": {
      "text/plain": [
       "3×2 Matrix{Int64}:\n",
       " 3  2\n",
       " 0  2\n",
       " 0  0"
      ]
     },
     "metadata": {},
     "output_type": "display_data"
    },
    {
     "name": "stdout",
     "output_type": "stream",
     "text": [
      "\n",
      "-------------------Test case 10 has passed -------------------------------\n",
      "\n",
      " ###################### Testing Case 11 ###################################### \n",
      "Input Matrix = "
     ]
    },
    {
     "data": {
      "text/plain": [
       "3×3 Matrix{Int64}:\n",
       " 3  0  1\n",
       " 3  1  2\n",
       " 3  0  1"
      ]
     },
     "metadata": {},
     "output_type": "display_data"
    },
    {
     "data": {
      "text/plain": [
       "3×4 Matrix{Int64}:\n",
       " 3  0  1  1\n",
       " 3  1  2  0\n",
       " 3  0  1  0"
      ]
     },
     "metadata": {},
     "output_type": "display_data"
    },
    {
     "name": "stdout",
     "output_type": "stream",
     "text": [
      "(1, 1) is a pivot position\n",
      "Subtracting Row 1 from Row 2 \n",
      "factor of subtraction = 1 \n",
      "Subtracting Row 1 from Row 3 \n",
      "factor of subtraction = 1 \n"
     ]
    },
    {
     "data": {
      "text/plain": [
       "3×4 Matrix{Int64}:\n",
       " 3  0  1  1\n",
       " 0  1  3  1\n",
       " 0  0  0  1"
      ]
     },
     "metadata": {},
     "output_type": "display_data"
    },
    {
     "name": "stdout",
     "output_type": "stream",
     "text": [
      "(2, 2) is a pivot position\n",
      "Subtracting Row 2 from Row 3 \n",
      "factor of subtraction = 0 \n",
      "Inside the check for the final Row Pivot\n",
      "Rank = 2\n",
      "Consistent = false\n",
      "[1, 1, 0, 1]\n",
      "~~~~~~~~Row reduction process complete~~~~~\n"
     ]
    },
    {
     "data": {
      "text/plain": [
       "3×3 Matrix{Int64}:\n",
       " 3  0  1\n",
       " 0  1  3\n",
       " 0  0  0"
      ]
     },
     "metadata": {},
     "output_type": "display_data"
    },
    {
     "name": "stdout",
     "output_type": "stream",
     "text": [
      "\n",
      "-------------------Test case 11 has passed -------------------------------\n",
      "\n",
      " ###################### Testing Case 12 ###################################### \n",
      "Input Matrix = "
     ]
    },
    {
     "data": {
      "text/plain": [
       "3×3 Matrix{Int64}:\n",
       " 1  0  3\n",
       " 2  1  1\n",
       " 3  2  2"
      ]
     },
     "metadata": {},
     "output_type": "display_data"
    },
    {
     "name": "stdout",
     "output_type": "stream",
     "text": [
      "Exchanging row 1 woth row 3"
     ]
    },
    {
     "data": {
      "text/plain": [
       "3×4 Matrix{Int64}:\n",
       " 3  2  2  1\n",
       " 2  1  1  3\n",
       " 1  0  3  1"
      ]
     },
     "metadata": {},
     "output_type": "display_data"
    },
    {
     "name": "stdout",
     "output_type": "stream",
     "text": [
      "(1, 1) is a pivot position\n",
      "Subtracting Row 1 from Row 2 \n",
      "factor of subtraction = 3 \n",
      "Subtracting Row 1 from Row 3 \n",
      "factor of subtraction = 2 \n",
      "Exchanging row 2 woth row 3"
     ]
    },
    {
     "data": {
      "text/plain": [
       "3×4 Matrix{Int64}:\n",
       " 3  2  2  1\n",
       " 0  3  0  3\n",
       " 0  0  0  0"
      ]
     },
     "metadata": {},
     "output_type": "display_data"
    },
    {
     "name": "stdout",
     "output_type": "stream",
     "text": [
      "(2, 2) is a pivot position\n",
      "Subtracting Row 2 from Row 3 \n",
      "factor of subtraction = 0 \n",
      "Inside the check for the final Row Pivot\n",
      "Rank = 2\n",
      "Consistent = true\n",
      "[1, 1, 0, 0]\n",
      "~~~~~~~~Row reduction process complete~~~~~\n"
     ]
    },
    {
     "data": {
      "text/plain": [
       "3×3 Matrix{Int64}:\n",
       " 3  2  2\n",
       " 0  3  0\n",
       " 0  0  0"
      ]
     },
     "metadata": {},
     "output_type": "display_data"
    },
    {
     "name": "stdout",
     "output_type": "stream",
     "text": [
      "\n",
      "-------------------Test case 12 has passed -------------------------------\n",
      "\n",
      " ###################### Testing Case 13 ###################################### \n",
      "Input Matrix = "
     ]
    },
    {
     "data": {
      "text/plain": [
       "3×3 Matrix{Int64}:\n",
       " 3  2  1\n",
       " 2  2  0\n",
       " 1  0  1"
      ]
     },
     "metadata": {},
     "output_type": "display_data"
    },
    {
     "data": {
      "text/plain": [
       "3×4 Matrix{Int64}:\n",
       " 3  2  1  1\n",
       " 2  2  0  1\n",
       " 1  0  1  3"
      ]
     },
     "metadata": {},
     "output_type": "display_data"
    },
    {
     "name": "stdout",
     "output_type": "stream",
     "text": [
      "(1, 1) is a pivot position\n",
      "Subtracting Row 1 from Row 2 \n",
      "factor of subtraction = 3 \n",
      "Subtracting Row 1 from Row 3 \n",
      "factor of subtraction = 2 \n"
     ]
    },
    {
     "data": {
      "text/plain": [
       "3×4 Matrix{Int64}:\n",
       " 3  2  1  1\n",
       " 0  3  3  2\n",
       " 0  3  3  1"
      ]
     },
     "metadata": {},
     "output_type": "display_data"
    },
    {
     "name": "stdout",
     "output_type": "stream",
     "text": [
      "(2, 2) is a pivot position\n",
      "Subtracting Row 2 from Row 3 \n",
      "factor of subtraction = 1 \n",
      "Inside the check for the final Row Pivot\n",
      "Rank = 2\n",
      "Consistent = false\n",
      "[1, 1, 0, 1]\n",
      "~~~~~~~~Row reduction process complete~~~~~\n"
     ]
    },
    {
     "data": {
      "text/plain": [
       "3×3 Matrix{Int64}:\n",
       " 3  2  1\n",
       " 0  3  3\n",
       " 0  0  0"
      ]
     },
     "metadata": {},
     "output_type": "display_data"
    },
    {
     "name": "stdout",
     "output_type": "stream",
     "text": [
      "\n",
      "-------------------Test case 13 has passed -------------------------------\n",
      "\n",
      " ###################### Testing Case 14 ###################################### \n",
      "Input Matrix = "
     ]
    },
    {
     "data": {
      "text/plain": [
       "3×3 Matrix{Int64}:\n",
       " 2  2  0\n",
       " 0  3  3\n",
       " 0  2  0"
      ]
     },
     "metadata": {},
     "output_type": "display_data"
    },
    {
     "data": {
      "text/plain": [
       "3×4 Matrix{Int64}:\n",
       " 2  2  0  1\n",
       " 0  3  3  2\n",
       " 0  2  0  1"
      ]
     },
     "metadata": {},
     "output_type": "display_data"
    },
    {
     "name": "stdout",
     "output_type": "stream",
     "text": [
      "(1, 1) is a pivot position\n",
      "Subtracting Row 1 from Row 2 \n",
      "factor of subtraction = 0 \n",
      "Subtracting Row 1 from Row 3 \n",
      "factor of subtraction = 0 \n"
     ]
    },
    {
     "data": {
      "text/plain": [
       "3×4 Matrix{Int64}:\n",
       " 2  2  0  1\n",
       " 0  3  3  2\n",
       " 0  2  0  1"
      ]
     },
     "metadata": {},
     "output_type": "display_data"
    },
    {
     "name": "stdout",
     "output_type": "stream",
     "text": [
      "(2, 2) is a pivot position\n",
      "Subtracting Row 2 from Row 3 \n",
      "factor of subtraction = 3 \n",
      "Inside the check for the final Row Pivot\n",
      "Rank = 3\n",
      "Consistent = true\n",
      "[1, 1, 1, 0]\n",
      "~~~~~~~~Row reduction process complete~~~~~\n"
     ]
    },
    {
     "data": {
      "text/plain": [
       "3×3 Matrix{Int64}:\n",
       " 2  2  0\n",
       " 0  3  3\n",
       " 0  0  2"
      ]
     },
     "metadata": {},
     "output_type": "display_data"
    },
    {
     "name": "stdout",
     "output_type": "stream",
     "text": [
      "\n",
      "-------------------Test case 14 has passed -------------------------------\n",
      "\n",
      " ###################### Testing Case 15 ###################################### \n",
      "Input Matrix = "
     ]
    },
    {
     "data": {
      "text/plain": [
       "3×3 Matrix{Int64}:\n",
       " 3  1  3\n",
       " 1  2  1\n",
       " 1  0  3"
      ]
     },
     "metadata": {},
     "output_type": "display_data"
    },
    {
     "data": {
      "text/plain": [
       "3×4 Matrix{Int64}:\n",
       " 3  1  3  3\n",
       " 1  2  1  0\n",
       " 1  0  3  2"
      ]
     },
     "metadata": {},
     "output_type": "display_data"
    },
    {
     "name": "stdout",
     "output_type": "stream",
     "text": [
      "(1, 1) is a pivot position\n",
      "Subtracting Row 1 from Row 2 \n",
      "factor of subtraction = 2 \n",
      "Subtracting Row 1 from Row 3 \n",
      "factor of subtraction = 2 \n",
      "Exchanging row 2 woth row 3"
     ]
    },
    {
     "data": {
      "text/plain": [
       "3×4 Matrix{Int64}:\n",
       " 3  1  3  3\n",
       " 0  2  2  3\n",
       " 0  0  0  1"
      ]
     },
     "metadata": {},
     "output_type": "display_data"
    },
    {
     "name": "stdout",
     "output_type": "stream",
     "text": [
      "(2, 2) is a pivot position\n",
      "Subtracting Row 2 from Row 3 \n",
      "factor of subtraction = 0 \n",
      "Inside the check for the final Row Pivot\n",
      "Rank = 2\n",
      "Consistent = false\n",
      "[1, 1, 0, 1]\n",
      "~~~~~~~~Row reduction process complete~~~~~\n"
     ]
    },
    {
     "data": {
      "text/plain": [
       "3×3 Matrix{Int64}:\n",
       " 3  1  3\n",
       " 0  2  2\n",
       " 0  0  0"
      ]
     },
     "metadata": {},
     "output_type": "display_data"
    },
    {
     "name": "stdout",
     "output_type": "stream",
     "text": [
      "\n",
      "-------------------Test case 15 has passed -------------------------------\n",
      "\n",
      " ###################### Testing Case 16 ###################################### \n",
      "Input Matrix = "
     ]
    },
    {
     "data": {
      "text/plain": [
       "4×4 Matrix{Int64}:\n",
       " 2  3  3  0\n",
       " 0  1  2  3\n",
       " 0  1  2  3\n",
       " 2  2  0  2"
      ]
     },
     "metadata": {},
     "output_type": "display_data"
    },
    {
     "data": {
      "text/plain": [
       "4×5 Matrix{Int64}:\n",
       " 2  3  3  0  1\n",
       " 0  1  2  3  2\n",
       " 0  1  2  3  3\n",
       " 2  2  0  2  1"
      ]
     },
     "metadata": {},
     "output_type": "display_data"
    },
    {
     "name": "stdout",
     "output_type": "stream",
     "text": [
      "(1, 1) is a pivot position\n",
      "Subtracting Row 1 from Row 2 \n",
      "factor of subtraction = 0 \n",
      "Subtracting Row 1 from Row 3 \n",
      "factor of subtraction = 0 \n",
      "Subtracting Row 1 from Row 4 \n",
      "factor of subtraction = 1 \n"
     ]
    },
    {
     "data": {
      "text/plain": [
       "4×5 Matrix{Int64}:\n",
       " 2  3  3  0  1\n",
       " 0  1  2  3  2\n",
       " 0  1  2  3  3\n",
       " 0  1  3  2  0"
      ]
     },
     "metadata": {},
     "output_type": "display_data"
    },
    {
     "name": "stdout",
     "output_type": "stream",
     "text": [
      "(2, 2) is a pivot position\n",
      "Subtracting Row 2 from Row 3 \n",
      "factor of subtraction = 1 \n",
      "Subtracting Row 2 from Row 4 \n",
      "factor of subtraction = 1 \n",
      "Exchanging row 3 woth row 4"
     ]
    },
    {
     "data": {
      "text/plain": [
       "4×5 Matrix{Int64}:\n",
       " 2  3  3  0  1\n",
       " 0  1  2  3  2\n",
       " 0  0  1  1  2\n",
       " 0  0  0  0  1"
      ]
     },
     "metadata": {},
     "output_type": "display_data"
    },
    {
     "name": "stdout",
     "output_type": "stream",
     "text": [
      "(3, 3) is a pivot position\n",
      "Subtracting Row 3 from Row 4 \n",
      "factor of subtraction = 0 \n",
      "Inside the check for the final Row Pivot\n",
      "Rank = 3\n",
      "Consistent = false\n",
      "[1, 1, 1, 0, 1]\n",
      "~~~~~~~~Row reduction process complete~~~~~\n"
     ]
    },
    {
     "data": {
      "text/plain": [
       "4×4 Matrix{Int64}:\n",
       " 2  3  3  0\n",
       " 0  1  2  3\n",
       " 0  0  1  1\n",
       " 0  0  0  0"
      ]
     },
     "metadata": {},
     "output_type": "display_data"
    },
    {
     "name": "stdout",
     "output_type": "stream",
     "text": [
      "\n",
      "-------------------Test case 16 has passed -------------------------------\n",
      "\n",
      " ###################### Testing Case 17 ###################################### \n",
      "Input Matrix = "
     ]
    },
    {
     "data": {
      "text/plain": [
       "4×4 Matrix{Int64}:\n",
       " 0  3  1  1\n",
       " 2  0  0  3\n",
       " 3  3  2  0\n",
       " 0  2  3  1"
      ]
     },
     "metadata": {},
     "output_type": "display_data"
    },
    {
     "name": "stdout",
     "output_type": "stream",
     "text": [
      "Exchanging row 1 woth row 3"
     ]
    },
    {
     "data": {
      "text/plain": [
       "4×5 Matrix{Int64}:\n",
       " 3  3  2  0  1\n",
       " 2  0  0  3  0\n",
       " 0  3  1  1  3\n",
       " 0  2  3  1  1"
      ]
     },
     "metadata": {},
     "output_type": "display_data"
    },
    {
     "name": "stdout",
     "output_type": "stream",
     "text": [
      "(1, 1) is a pivot position\n",
      "Subtracting Row 1 from Row 2 \n",
      "factor of subtraction = 3 \n",
      "Subtracting Row 1 from Row 3 \n",
      "factor of subtraction = 0 \n",
      "Subtracting Row 1 from Row 4 \n",
      "factor of subtraction = 0 \n",
      "Exchanging row 2 woth row 3"
     ]
    },
    {
     "data": {
      "text/plain": [
       "4×5 Matrix{Int64}:\n",
       " 3  3  2  0  1\n",
       " 0  3  1  1  3\n",
       " 0  2  1  3  3\n",
       " 0  2  3  1  1"
      ]
     },
     "metadata": {},
     "output_type": "display_data"
    },
    {
     "name": "stdout",
     "output_type": "stream",
     "text": [
      "(2, 2) is a pivot position\n",
      "Subtracting Row 2 from Row 3 \n",
      "factor of subtraction = 3 \n",
      "Subtracting Row 2 from Row 4 \n",
      "factor of subtraction = 3 \n"
     ]
    },
    {
     "data": {
      "text/plain": [
       "4×5 Matrix{Int64}:\n",
       " 3  3  2  0  1\n",
       " 0  3  1  1  3\n",
       " 0  0  2  0  1\n",
       " 0  0  0  2  3"
      ]
     },
     "metadata": {},
     "output_type": "display_data"
    },
    {
     "name": "stdout",
     "output_type": "stream",
     "text": [
      "(3, 3) is a pivot position\n",
      "Subtracting Row 3 from Row 4 \n",
      "factor of subtraction = 0 \n",
      "Inside the check for the final Row Pivot\n",
      "Rank = 4\n",
      "Consistent = true\n",
      "[1, 1, 1, 1, 0]\n",
      "~~~~~~~~Row reduction process complete~~~~~\n"
     ]
    },
    {
     "data": {
      "text/plain": [
       "4×4 Matrix{Int64}:\n",
       " 3  3  2  0\n",
       " 0  3  1  1\n",
       " 0  0  2  0\n",
       " 0  0  0  2"
      ]
     },
     "metadata": {},
     "output_type": "display_data"
    },
    {
     "name": "stdout",
     "output_type": "stream",
     "text": [
      "\n",
      "-------------------Test case 17 has passed -------------------------------\n",
      "\n",
      " ###################### Testing Case 18 ###################################### \n",
      "Input Matrix = "
     ]
    },
    {
     "data": {
      "text/plain": [
       "4×4 Matrix{Int64}:\n",
       " 3  0  1  3\n",
       " 3  1  2  0\n",
       " 0  1  1  2\n",
       " 2  2  1  1"
      ]
     },
     "metadata": {},
     "output_type": "display_data"
    },
    {
     "data": {
      "text/plain": [
       "4×5 Matrix{Int64}:\n",
       " 3  0  1  3  2\n",
       " 3  1  2  0  1\n",
       " 0  1  1  2  0\n",
       " 2  2  1  1  2"
      ]
     },
     "metadata": {},
     "output_type": "display_data"
    },
    {
     "name": "stdout",
     "output_type": "stream",
     "text": [
      "(1, 1) is a pivot position\n",
      "Subtracting Row 1 from Row 2 \n",
      "factor of subtraction = 1 \n",
      "Subtracting Row 1 from Row 3 \n",
      "factor of subtraction = 0 \n",
      "Subtracting Row 1 from Row 4 \n",
      "factor of subtraction = 3 \n",
      "Exchanging row 2 woth row 4"
     ]
    },
    {
     "data": {
      "text/plain": [
       "4×5 Matrix{Int64}:\n",
       " 3  0  1  3  2\n",
       " 0  2  2  3  3\n",
       " 0  1  1  2  0\n",
       " 0  1  3  3  3"
      ]
     },
     "metadata": {},
     "output_type": "display_data"
    },
    {
     "name": "stdout",
     "output_type": "stream",
     "text": [
      "(2, 2) is a pivot position\n",
      "Subtracting Row 2 from Row 3 \n",
      "factor of subtraction = 3 \n",
      "Subtracting Row 2 from Row 4 \n",
      "factor of subtraction = 3 \n",
      "Exchanging row 3 woth row 4"
     ]
    },
    {
     "data": {
      "text/plain": [
       "4×5 Matrix{Int64}:\n",
       " 3  0  1  3  2\n",
       " 0  2  2  3  3\n",
       " 0  0  2  1  1\n",
       " 0  0  0  0  2"
      ]
     },
     "metadata": {},
     "output_type": "display_data"
    },
    {
     "name": "stdout",
     "output_type": "stream",
     "text": [
      "(3, 3) is a pivot position\n",
      "Subtracting Row 3 from Row 4 \n",
      "factor of subtraction = 0 \n",
      "Inside the check for the final Row Pivot\n",
      "Rank = 3\n",
      "Consistent = false\n",
      "[1, 1, 1, 0, 1]\n",
      "~~~~~~~~Row reduction process complete~~~~~\n"
     ]
    },
    {
     "data": {
      "text/plain": [
       "4×4 Matrix{Int64}:\n",
       " 3  0  1  3\n",
       " 0  2  2  3\n",
       " 0  0  2  1\n",
       " 0  0  0  0"
      ]
     },
     "metadata": {},
     "output_type": "display_data"
    },
    {
     "name": "stdout",
     "output_type": "stream",
     "text": [
      "\n",
      "-------------------Test case 18 has passed -------------------------------\n",
      "\n",
      " ###################### Testing Case 19 ###################################### \n",
      "Input Matrix = "
     ]
    },
    {
     "data": {
      "text/plain": [
       "4×4 Matrix{Int64}:\n",
       " 3  0  2  2\n",
       " 1  1  1  0\n",
       " 2  1  3  0\n",
       " 1  1  0  0"
      ]
     },
     "metadata": {},
     "output_type": "display_data"
    },
    {
     "data": {
      "text/plain": [
       "4×5 Matrix{Int64}:\n",
       " 3  0  2  2  2\n",
       " 1  1  1  0  3\n",
       " 2  1  3  0  2\n",
       " 1  1  0  0  2"
      ]
     },
     "metadata": {},
     "output_type": "display_data"
    },
    {
     "name": "stdout",
     "output_type": "stream",
     "text": [
      "(1, 1) is a pivot position\n",
      "Subtracting Row 1 from Row 2 \n",
      "factor of subtraction = 2 \n",
      "Subtracting Row 1 from Row 3 \n",
      "factor of subtraction = 3 \n",
      "Subtracting Row 1 from Row 4 \n",
      "factor of subtraction = 2 \n"
     ]
    },
    {
     "data": {
      "text/plain": [
       "4×5 Matrix{Int64}:\n",
       " 3  0  2  2  2\n",
       " 0  1  2  3  0\n",
       " 0  1  2  1  3\n",
       " 0  1  3  3  1"
      ]
     },
     "metadata": {},
     "output_type": "display_data"
    },
    {
     "name": "stdout",
     "output_type": "stream",
     "text": [
      "(2, 2) is a pivot position\n",
      "Subtracting Row 2 from Row 3 \n",
      "factor of subtraction = 1 \n",
      "Subtracting Row 2 from Row 4 \n",
      "factor of subtraction = 1 \n",
      "Exchanging row 3 woth row 4"
     ]
    },
    {
     "data": {
      "text/plain": [
       "4×5 Matrix{Int64}:\n",
       " 3  0  2  2  2\n",
       " 0  1  2  3  0\n",
       " 0  0  1  0  1\n",
       " 0  0  0  2  3"
      ]
     },
     "metadata": {},
     "output_type": "display_data"
    },
    {
     "name": "stdout",
     "output_type": "stream",
     "text": [
      "(3, 3) is a pivot position\n",
      "Subtracting Row 3 from Row 4 \n",
      "factor of subtraction = 0 \n",
      "Inside the check for the final Row Pivot\n",
      "Rank = 4\n",
      "Consistent = true\n",
      "[1, 1, 1, 1, 0]\n",
      "~~~~~~~~Row reduction process complete~~~~~\n"
     ]
    },
    {
     "data": {
      "text/plain": [
       "4×4 Matrix{Int64}:\n",
       " 3  0  2  2\n",
       " 0  1  2  3\n",
       " 0  0  1  0\n",
       " 0  0  0  2"
      ]
     },
     "metadata": {},
     "output_type": "display_data"
    },
    {
     "name": "stdout",
     "output_type": "stream",
     "text": [
      "\n",
      "-------------------Test case 19 has passed -------------------------------\n",
      "\n",
      " ###################### Testing Case 20 ###################################### \n",
      "Input Matrix = "
     ]
    },
    {
     "data": {
      "text/plain": [
       "4×4 Matrix{Int64}:\n",
       " 1  0  0  2\n",
       " 2  2  1  1\n",
       " 1  0  1  3\n",
       " 0  2  0  3"
      ]
     },
     "metadata": {},
     "output_type": "display_data"
    },
    {
     "name": "stdout",
     "output_type": "stream",
     "text": [
      "Exchanging row 1 woth row 2"
     ]
    },
    {
     "data": {
      "text/plain": [
       "4×5 Matrix{Int64}:\n",
       " 2  2  1  1  2\n",
       " 1  0  0  2  3\n",
       " 1  0  1  3  0\n",
       " 0  2  0  3  1"
      ]
     },
     "metadata": {},
     "output_type": "display_data"
    },
    {
     "name": "stdout",
     "output_type": "stream",
     "text": [
      "(1, 1) is a pivot position\n",
      "Subtracting Row 1 from Row 2 \n",
      "factor of subtraction = 3 \n",
      "Subtracting Row 1 from Row 3 \n",
      "factor of subtraction = 3 \n",
      "Subtracting Row 1 from Row 4 \n",
      "factor of subtraction = 0 \n",
      "Exchanging row 2 woth row 4"
     ]
    },
    {
     "data": {
      "text/plain": [
       "4×5 Matrix{Int64}:\n",
       " 2  2  1  1  2\n",
       " 0  2  0  3  1\n",
       " 0  1  2  0  1\n",
       " 0  1  3  1  2"
      ]
     },
     "metadata": {},
     "output_type": "display_data"
    },
    {
     "name": "stdout",
     "output_type": "stream",
     "text": [
      "(2, 2) is a pivot position\n",
      "Subtracting Row 2 from Row 3 \n",
      "factor of subtraction = 3 \n",
      "Subtracting Row 2 from Row 4 \n",
      "factor of subtraction = 3 \n",
      "Exchanging row 3 woth row 4"
     ]
    },
    {
     "data": {
      "text/plain": [
       "4×5 Matrix{Int64}:\n",
       " 2  2  1  1  2\n",
       " 0  2  0  3  1\n",
       " 0  0  3  3  1\n",
       " 0  0  2  2  2"
      ]
     },
     "metadata": {},
     "output_type": "display_data"
    },
    {
     "name": "stdout",
     "output_type": "stream",
     "text": [
      "(3, 3) is a pivot position\n",
      "Subtracting Row 3 from Row 4 \n",
      "factor of subtraction = 3 \n",
      "Inside the check for the final Row Pivot\n",
      "Rank = 3\n",
      "Consistent = false\n",
      "[1, 1, 1, 0, 1]\n",
      "~~~~~~~~Row reduction process complete~~~~~\n"
     ]
    },
    {
     "data": {
      "text/plain": [
       "4×4 Matrix{Int64}:\n",
       " 2  2  1  1\n",
       " 0  2  0  3\n",
       " 0  0  3  3\n",
       " 0  0  0  0"
      ]
     },
     "metadata": {},
     "output_type": "display_data"
    }
   ],
   "source": [
    "num = 20\n",
    "i = 0\n",
    "for sample in Samples\n",
    "    @printf(\"\\n ###################### Testing Case %d ###################################### \\n\", i+1)\n",
    "    print(\"Input Matrix = \")\n",
    "    display(sample.A)\n",
    "    U, Rank, consistent = rankconsistencyTeamID15(sample.A, sample.b)\n",
    "    i = i + 1\n",
    "    if(i >= num)\n",
    "        break\n",
    "    end\n",
    "    if(consistent == sample.consistent && sample.r == Rank && sample.U == U)\n",
    "        @printf(\"\\n-------------------Test case %d has passed -------------------------------\\n\", i)\n",
    "    else\n",
    "        @printf(\"\\n-------------------Test case %d has failed -------------------------------\\n\", i)\n",
    "        println(\"Is supposed to be \", sample.consistent, \" but found to be = \", consistent)\n",
    "        @printf(\"\\n %d != %d\\n\", Rank, sample.r)\n",
    "        print(\"Expected U = \")\n",
    "        display(sample.U)\n",
    "    end\n",
    "end"
   ]
  },
  {
   "cell_type": "code",
   "execution_count": null,
   "metadata": {},
   "outputs": [],
   "source": []
  }
 ],
 "metadata": {
  "kernelspec": {
   "display_name": "Julia 1.7.3",
   "language": "julia",
   "name": "julia-1.7"
  },
  "language_info": {
   "file_extension": ".jl",
   "mimetype": "application/julia",
   "name": "julia",
   "version": "1.7.3"
  },
  "orig_nbformat": 4
 },
 "nbformat": 4,
 "nbformat_minor": 2
}
