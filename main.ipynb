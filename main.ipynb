{
 "cells": [
  {
   "cell_type": "code",
   "execution_count": 6,
   "metadata": {},
   "outputs": [
    {
     "name": "stdout",
     "output_type": "stream",
     "text": [
      "[0 1 3; 0 1 3; 2 1 0]\n",
      "[2, 3, 3]"
     ]
    }
   ],
   "source": [
    "m = 3\n",
    "n = 3\n",
    "A = rand(0:3, (m,n))\n",
    "b = rand(0:3,m)\n",
    "print(A)\n",
    "println()\n",
    "print(b)"
   ]
  },
  {
   "cell_type": "code",
   "execution_count": null,
   "metadata": {},
   "outputs": [],
   "source": [
    "function rankconsistency(A::Matrix{Int64}, b::Vector{Int64})\n",
    "    consistent::Bool = false\n",
    "    U = rowreduce(A)\n",
    "    return Bool\n"
   ]
  }
 ],
 "metadata": {
  "kernelspec": {
   "display_name": "Julia 1.7.3",
   "language": "julia",
   "name": "julia-1.7"
  },
  "language_info": {
   "file_extension": ".jl",
   "mimetype": "application/julia",
   "name": "julia",
   "version": "1.7.3"
  },
  "orig_nbformat": 4
 },
 "nbformat": 4,
 "nbformat_minor": 2
}
