{
 "cells": [
  {
   "cell_type": "code",
   "execution_count": 32,
   "metadata": {},
   "outputs": [
    {
     "name": "stdout",
     "output_type": "stream",
     "text": [
      "[1 1 2 2; 0 3 3 2; 2 1 2 2]\n",
      "[1, 2, 2]"
     ]
    }
   ],
   "source": [
    "using Printf\n",
    "m = 3\n",
    "n = 4\n",
    "A = rand(0:3, (m,n))\n",
    "b = rand(0:3,m)\n",
    "print(A)\n",
    "println()\n",
    "print(b)"
   ]
  },
  {
   "cell_type": "markdown",
   "metadata": {},
   "source": [
    "### Idea\n",
    "---\n",
    "$$\n",
    "\\begin{gather}\n",
    "    A' = \\begin{bmatrix} A &  b \\end{bmatrix} \\\\\n",
    "    U' = CA' = \\begin{bmatrix} CA &  Cb \\end{bmatrix} \\\\\n",
    "    U' = \\begin{bmatrix} U &  Cb \\end{bmatrix} \\\\\n",
    "\\end{gather}\n",
    "$$\n",
    "If $Cb$ is a pivot column, then the system is unsolvable, else it is consistent and has one or more solutions."
   ]
  },
  {
   "cell_type": "code",
   "execution_count": 33,
   "metadata": {},
   "outputs": [
    {
     "data": {
      "text/plain": [
       "rankconsistency (generic function with 1 method)"
      ]
     },
     "execution_count": 33,
     "metadata": {},
     "output_type": "execute_result"
    }
   ],
   "source": [
    "function rankconsistency(A::Matrix{Int64}, b::Vector{Int64})\n",
    "    consistent::Bool = false\n",
    "    U = rowreduce(A)\n",
    "    return Bool,U  \n",
    "end \n"
   ]
  },
  {
   "cell_type": "code",
   "execution_count": 34,
   "metadata": {},
   "outputs": [
    {
     "data": {
      "text/plain": [
       "AddGf (generic function with 1 method)"
      ]
     },
     "execution_count": 34,
     "metadata": {},
     "output_type": "execute_result"
    }
   ],
   "source": [
    "Add_matrix = [  0 1 2 3  ;  1  0  3  2 ; 2 3 0 1 ; 3 2 1 0 ]\n",
    "function AddGf(i, j)\n",
    "    return Add_matrix[i+1][j+1]\n",
    "end"
   ]
  },
  {
   "cell_type": "code",
   "execution_count": 35,
   "metadata": {},
   "outputs": [
    {
     "data": {
      "text/plain": [
       "MulGf (generic function with 1 method)"
      ]
     },
     "execution_count": 35,
     "metadata": {},
     "output_type": "execute_result"
    }
   ],
   "source": [
    "Mul_matrix = [ 0 0 0 0 ; 0  1  2  3 ; 0  2  3  1 ; 0 3 1  2 ]\n",
    "function MulGf(i, j)\n",
    "    return Mul_matrix[i+1][j+1]\n",
    "end"
   ]
  },
  {
   "cell_type": "code",
   "execution_count": 36,
   "metadata": {},
   "outputs": [
    {
     "data": {
      "text/plain": [
       "InvGf (generic function with 1 method)"
      ]
     },
     "execution_count": 36,
     "metadata": {},
     "output_type": "execute_result"
    }
   ],
   "source": [
    "Inv_vec = [1, 3, 2]\n",
    "function InvGf(i)\n",
    "    return Inv_vec[i]\n",
    "end"
   ]
  },
  {
   "cell_type": "code",
   "execution_count": 37,
   "metadata": {},
   "outputs": [
    {
     "data": {
      "text/plain": [
       "RowReduction (generic function with 1 method)"
      ]
     },
     "execution_count": 37,
     "metadata": {},
     "output_type": "execute_result"
    }
   ],
   "source": [
    "function RowReduction(A::Matrix{Int64})\n",
    "\n",
    "end"
   ]
  },
  {
   "cell_type": "code",
   "execution_count": 38,
   "metadata": {},
   "outputs": [
    {
     "data": {
      "text/plain": [
       "PivotSubtract (generic function with 1 method)"
      ]
     },
     "execution_count": 38,
     "metadata": {},
     "output_type": "execute_result"
    }
   ],
   "source": [
    "function PivotSubtract(A, pivot_row)\n",
    "    for i in pivot_row + 1:size(A, 1)\n",
    "        RowSubtract(A,pivot_row, i)\n",
    "    end \n",
    "end"
   ]
  },
  {
   "cell_type": "code",
   "execution_count": 39,
   "metadata": {},
   "outputs": [
    {
     "data": {
      "text/plain": [
       "RowSubtract (generic function with 1 method)"
      ]
     },
     "execution_count": 39,
     "metadata": {},
     "output_type": "execute_result"
    }
   ],
   "source": [
    "function RowSubtract(A, i, j)\n",
    "    @printf(\"Subtracting Row %d form Row %d \\n\", i , j)\n",
    "    #assumption is that the pivots are already present\n",
    "    #the i, i element will do the job \n",
    "    factor = MulGf(InvGf(A[i][i]), A[j][i])\n",
    "    @printf(\"factor of subtraction = \",factor)\n",
    "    # for index in i:size(A, 2)\n",
    "    #     A[j][index] = AddGf(A[j][index], MulGf( A[i][index] ,factor))\n",
    "    # end  \n",
    "end"
   ]
  },
  {
   "cell_type": "code",
   "execution_count": 40,
   "metadata": {},
   "outputs": [
    {
     "name": "stdout",
     "output_type": "stream",
     "text": [
      "Subtracting Row 1 form Row 2 \n"
     ]
    },
    {
     "ename": "LoadError",
     "evalue": "BoundsError: attempt to access 4×4 Matrix{Int64} at index [0]",
     "output_type": "error",
     "traceback": [
      "BoundsError: attempt to access 4×4 Matrix{Int64} at index [0]",
      "",
      "Stacktrace:",
      " [1] getindex(A::Matrix{Int64}, i1::Int64)",
      "   @ Base ./array.jl:861",
      " [2] MulGf(i::Int64, j::Int64)",
      "   @ Main ./In[35]:3",
      " [3] RowSubtract(A::Matrix{Int64}, i::Int64, j::Int64)",
      "   @ Main ./In[39]:5",
      " [4] PivotSubtract(A::Matrix{Int64}, pivot_row::Int64)",
      "   @ Main ./In[38]:3",
      " [5] top-level scope",
      "   @ In[40]:1",
      " [6] eval",
      "   @ ./boot.jl:373 [inlined]",
      " [7] include_string(mapexpr::typeof(REPL.softscope), mod::Module, code::String, filename::String)",
      "   @ Base ./loading.jl:1196"
     ]
    }
   ],
   "source": [
    "PivotSubtract(A, 1)"
   ]
  },
  {
   "cell_type": "code",
   "execution_count": null,
   "metadata": {},
   "outputs": [],
   "source": []
  },
  {
   "cell_type": "code",
   "execution_count": null,
   "metadata": {},
   "outputs": [],
   "source": []
  }
 ],
 "metadata": {
  "kernelspec": {
   "display_name": "Julia 1.7.3",
   "language": "julia",
   "name": "julia-1.7"
  },
  "language_info": {
   "file_extension": ".jl",
   "mimetype": "application/julia",
   "name": "julia",
   "version": "1.7.3"
  },
  "orig_nbformat": 4
 },
 "nbformat": 4,
 "nbformat_minor": 2
}
