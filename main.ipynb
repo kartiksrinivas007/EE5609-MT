{
 "cells": [
  {
   "cell_type": "code",
   "execution_count": 6,
   "metadata": {},
   "outputs": [
    {
     "name": "stdout",
     "output_type": "stream",
     "text": [
      "[0 1 3; 0 1 3; 2 1 0]\n",
      "[2, 3, 3]"
     ]
    }
   ],
   "source": [
    "m = 3\n",
    "n = 3\n",
    "A = rand(0:3, (m,n))\n",
    "b = rand(0:3,m)\n",
    "print(A)\n",
    "println()\n",
    "print(b)"
   ]
  },
  {
   "cell_type": "markdown",
   "metadata": {},
   "source": [
    "### Idea\n",
    "---\n",
    "$$\n",
    "\\begin{gather}\n",
    "    A' = \\begin{bmatrix} A &  b \\end{bmatrix} \\\\\n",
    "    U' = CA' = \\begin{bmatrix} CA &  Cb \\end{bmatrix} \\\\\n",
    "    U' = \\begin{bmatrix} U &  Cb \\end{bmatrix} \\\\\n",
    "\\end{gather}\n",
    "$$\n",
    "If $Cb$ is a pivot column, then the system is unsolvable, else it is consistent and has one or more solutions."
   ]
  },
  {
   "cell_type": "code",
   "execution_count": 11,
   "metadata": {},
   "outputs": [
    {
     "data": {
      "text/plain": [
       "rankconsistency (generic function with 1 method)"
      ]
     },
     "execution_count": 11,
     "metadata": {},
     "output_type": "execute_result"
    }
   ],
   "source": [
    "function rankconsistency(A::Matrix{Int64}, b::Vector{Int64})\n",
    "    consistent::Bool = false\n",
    "    U = rowreduce(A)\n",
    "    return Bool,U  \n",
    "end \n"
   ]
  },
  {
   "cell_type": "code",
   "execution_count": 12,
   "metadata": {},
   "outputs": [
    {
     "data": {
      "text/plain": [
       "Add_gf (generic function with 1 method)"
      ]
     },
     "execution_count": 12,
     "metadata": {},
     "output_type": "execute_result"
    }
   ],
   "source": [
    "Add_matrix = [  0 1 2 3  ;  1  0  3  2 ; 2 3 0 1 ; 3 2 1 0 ]\n",
    "function AddGf(i, j)\n",
    "    return Add_matrix[i-1][j-1]\n",
    "end"
   ]
  },
  {
   "cell_type": "code",
   "execution_count": 15,
   "metadata": {},
   "outputs": [
    {
     "data": {
      "text/plain": [
       "Mul_gf (generic function with 1 method)"
      ]
     },
     "execution_count": 15,
     "metadata": {},
     "output_type": "execute_result"
    }
   ],
   "source": [
    "Mul_matrix = [ 0 0 0 0 ; 0  1  2  3 ; 0  2  3  1 ; 0 3 1  2 ]\n",
    "function MulGf(i, j)\n",
    "    return Mul_matrix[i-1][j-1]\n",
    "end"
   ]
  },
  {
   "cell_type": "code",
   "execution_count": 16,
   "metadata": {},
   "outputs": [
    {
     "data": {
      "text/plain": [
       "3-element Vector{Int64}:\n",
       " 1\n",
       " 3\n",
       " 2"
      ]
     },
     "execution_count": 16,
     "metadata": {},
     "output_type": "execute_result"
    }
   ],
   "source": [
    "Inv_vec = [1, 3, 2]"
   ]
  },
  {
   "cell_type": "code",
   "execution_count": null,
   "metadata": {},
   "outputs": [],
   "source": [
    "function RowReduction(A::Matrix{Int64})\n",
    "\n",
    "end"
   ]
  },
  {
   "cell_type": "code",
   "execution_count": null,
   "metadata": {},
   "outputs": [],
   "source": [
    "function PivotSubtract(A, pivot_row, j)\n",
    "\n",
    "end"
   ]
  },
  {
   "cell_type": "code",
   "execution_count": null,
   "metadata": {},
   "outputs": [],
   "source": [
    "function RowSubtract(A, i, j)"
   ]
  }
 ],
 "metadata": {
  "kernelspec": {
   "display_name": "Julia 1.7.3",
   "language": "julia",
   "name": "julia-1.7"
  },
  "language_info": {
   "file_extension": ".jl",
   "mimetype": "application/julia",
   "name": "julia",
   "version": "1.7.3"
  },
  "orig_nbformat": 4
 },
 "nbformat": 4,
 "nbformat_minor": 2
}
