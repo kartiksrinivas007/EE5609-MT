{
 "cells": [
  {
   "cell_type": "code",
   "execution_count": 164,
   "metadata": {},
   "outputs": [
    {
     "name": "stdout",
     "output_type": "stream",
     "text": [
      "[1 3 3 3; 2 2 3 2; 1 2 2 3]\n",
      "[1, 1, 2]"
     ]
    }
   ],
   "source": [
    "using Printf\n",
    "using Random\n",
    "Random.seed!(1234)\n",
    "m = 3\n",
    "n = 4\n",
    "A = rand(1:3, (m,n))\n",
    "b = rand(1:3,m)\n",
    "print(A)\n",
    "println()\n",
    "print(b)"
   ]
  },
  {
   "cell_type": "markdown",
   "metadata": {},
   "source": [
    "### Idea\n",
    "---\n",
    "$$\n",
    "\\begin{gather}\n",
    "    A' = \\begin{bmatrix} A &  b \\end{bmatrix} \\\\\n",
    "    U' = CA' = \\begin{bmatrix} CA &  Cb \\end{bmatrix} \\\\\n",
    "    U' = \\begin{bmatrix} U &  Cb \\end{bmatrix} \\\\\n",
    "\\end{gather}\n",
    "$$\n",
    "If $Cb$ is a pivot column, then the system is unsolvable, else it is consistent and has one or more solutions."
   ]
  },
  {
   "cell_type": "code",
   "execution_count": 165,
   "metadata": {},
   "outputs": [
    {
     "data": {
      "text/plain": [
       "rankconsistency (generic function with 1 method)"
      ]
     },
     "execution_count": 165,
     "metadata": {},
     "output_type": "execute_result"
    }
   ],
   "source": [
    "function rankconsistency(A::Matrix{Int64}, b::Vector{Int64})\n",
    "    consistent::Bool = false\n",
    "    AugmentedMat = Augment(A, b)\n",
    "    U, rank, consistent  = RowReduction(AugmentedMat)\n",
    "    return r, U, consistent\n",
    "end \n"
   ]
  },
  {
   "cell_type": "code",
   "execution_count": 166,
   "metadata": {},
   "outputs": [
    {
     "data": {
      "text/plain": [
       "Augment (generic function with 1 method)"
      ]
     },
     "execution_count": 166,
     "metadata": {},
     "output_type": "execute_result"
    }
   ],
   "source": [
    "function Augment(A, b)\n",
    "    return [A b]\n",
    "end"
   ]
  },
  {
   "cell_type": "code",
   "execution_count": 167,
   "metadata": {},
   "outputs": [
    {
     "data": {
      "text/plain": [
       "AddGf (generic function with 1 method)"
      ]
     },
     "execution_count": 167,
     "metadata": {},
     "output_type": "execute_result"
    }
   ],
   "source": [
    "## Addition Table\n",
    "function AddGf(i, j)\n",
    "Add_matrix = [  0 1 2 3  ;  1  0  3  2 ; 2 3 0 1 ; 3 2 1 0 ]\n",
    "    return Add_matrix[i+1, j+1]\n",
    "end"
   ]
  },
  {
   "cell_type": "code",
   "execution_count": 168,
   "metadata": {},
   "outputs": [
    {
     "data": {
      "text/plain": [
       "MulGf (generic function with 1 method)"
      ]
     },
     "execution_count": 168,
     "metadata": {},
     "output_type": "execute_result"
    }
   ],
   "source": [
    "## Multiplication table\n",
    "function MulGf(i, j)\n",
    "    Mul_matrix = [ 0 0 0 0 ; 0  1  2  3 ; 0  2  3  1 ; 0 3 1 2 ]  \n",
    "    return Mul_matrix[i+1, j+1]\n",
    "end"
   ]
  },
  {
   "cell_type": "code",
   "execution_count": 169,
   "metadata": {},
   "outputs": [
    {
     "data": {
      "text/plain": [
       "InvGf (generic function with 1 method)"
      ]
     },
     "execution_count": 169,
     "metadata": {},
     "output_type": "execute_result"
    }
   ],
   "source": [
    "Inv_vec = [1, 3, 2]\n",
    "function InvGf(i)\n",
    "    return Inv_vec[i]\n",
    "end"
   ]
  },
  {
   "cell_type": "code",
   "execution_count": 170,
   "metadata": {},
   "outputs": [
    {
     "data": {
      "text/plain": [
       "RowReduction (generic function with 1 method)"
      ]
     },
     "execution_count": 170,
     "metadata": {},
     "output_type": "execute_result"
    }
   ],
   "source": [
    "function RowReduction(A::Matrix{Int64})\n",
    "\n",
    "end"
   ]
  },
  {
   "cell_type": "code",
   "execution_count": 171,
   "metadata": {},
   "outputs": [
    {
     "data": {
      "text/plain": [
       "PivotSubtract (generic function with 1 method)"
      ]
     },
     "execution_count": 171,
     "metadata": {},
     "output_type": "execute_result"
    }
   ],
   "source": [
    "#=\n",
    "* This function takes in the rows i and j assuming row i is a pivot columns and eliminates the entry in row j correspoinding to column i \n",
    "* Precondition : Element A(i, i) has an Inverse , i.e partial Pivoting is complete\n",
    "* Returns: Modified Matrix A after eliminating on all the Rows, below pivot_row.\n",
    "=#\n",
    "function PivotSubtract(A, pivot_row)\n",
    "    for i in pivot_row + 1:size(A, 1)\n",
    "        RowSubtract(A,pivot_row, i)\n",
    "    end \n",
    "end"
   ]
  },
  {
   "cell_type": "code",
   "execution_count": 172,
   "metadata": {},
   "outputs": [
    {
     "data": {
      "text/plain": [
       "RowSubtract (generic function with 1 method)"
      ]
     },
     "execution_count": 172,
     "metadata": {},
     "output_type": "execute_result"
    }
   ],
   "source": [
    "#=\n",
    "* This function takes in the rows i and j assuming row i is a pivot columns and eliminates the entry in row j correspoinding to column i \n",
    "* Precondition : Element A(i, i) has an Inverse\n",
    "* Returns: Modified Matrix A after eliminating on Row j\n",
    "=#\n",
    "function RowSubtract(A, i, j)\n",
    "    @printf(\"Subtracting Row %d form Row %d \\n\", i , j)\n",
    "    factor = MulGf(InvGf(A[i , i]), A[j, i])\n",
    "    @printf(\"factor of subtraction = %d \\n\",factor)\n",
    "    for index in i:size(A, 2)\n",
    "        A[j , index] = AddGf(A[j , index], MulGf( A[i, index] ,factor))\n",
    "    end\n",
    "end"
   ]
  },
  {
   "cell_type": "code",
   "execution_count": 173,
   "metadata": {},
   "outputs": [
    {
     "data": {
      "text/plain": [
       "3×5 Matrix{Int64}:\n",
       " 1  3  3  3  1\n",
       " 2  2  3  2  1\n",
       " 1  2  2  3  2"
      ]
     },
     "metadata": {},
     "output_type": "display_data"
    },
    {
     "name": "stdout",
     "output_type": "stream",
     "text": [
      "Subtracting Row 1 form Row 2 \n",
      "factor of subtraction = 2 \n",
      "Subtracting Row 1 form Row 3 \n",
      "factor of subtraction = 1 \n",
      "Subtracting Row 2 form Row 3 \n",
      "factor of subtraction = 2 \n"
     ]
    },
    {
     "data": {
      "text/plain": [
       "3×5 Matrix{Int64}:\n",
       " 1  3  3  3  1\n",
       " 0  3  2  3  3\n",
       " 0  0  2  1  2"
      ]
     },
     "metadata": {},
     "output_type": "display_data"
    }
   ],
   "source": [
    "AugmentedMatrix = Augment(A, b)\n",
    "display(AugmentedMatrix)\n",
    "PivotSubtract(AugmentedMatrix, 1)\n",
    "PivotSubtract(AugmentedMatrix, 2)\n",
    "display(AugmentedMatrix)"
   ]
  },
  {
   "cell_type": "code",
   "execution_count": null,
   "metadata": {},
   "outputs": [],
   "source": []
  },
  {
   "cell_type": "code",
   "execution_count": null,
   "metadata": {},
   "outputs": [],
   "source": []
  }
 ],
 "metadata": {
  "kernelspec": {
   "display_name": "Julia 1.7.3",
   "language": "julia",
   "name": "julia-1.7"
  },
  "language_info": {
   "file_extension": ".jl",
   "mimetype": "application/julia",
   "name": "julia",
   "version": "1.7.3"
  },
  "orig_nbformat": 4
 },
 "nbformat": 4,
 "nbformat_minor": 2
}
