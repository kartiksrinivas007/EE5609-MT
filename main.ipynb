{
 "cells": [
  {
   "cell_type": "code",
   "execution_count": 832,
   "metadata": {},
   "outputs": [
    {
     "name": "stdout",
     "output_type": "stream",
     "text": [
      "[1 3 3 3; 2 2 3 2; 1 2 2 3]\n",
      "[1, 1, 2]"
     ]
    }
   ],
   "source": [
    "using Printf\n",
    "using Random\n",
    "Random.seed!(1234)\n",
    "m = 3\n",
    "n = 4\n",
    "A = rand(1:3, (m,n))\n",
    "# A = ones(Int64, m,n)\n",
    "b = rand(1:3,m)\n",
    "print(A)\n",
    "println()\n",
    "print(b)"
   ]
  },
  {
   "cell_type": "markdown",
   "metadata": {},
   "source": [
    "### Idea\n",
    "---\n",
    "$$\n",
    "\\begin{gather}\n",
    "    A' = \\begin{bmatrix} A &  b \\end{bmatrix} \\\\\n",
    "    R' = CA' = \\begin{bmatrix} RA &  Cb \\end{bmatrix} \\\\\n",
    "    R' = \\begin{bmatrix} R &  Cb \\end{bmatrix} \\\\\n",
    "\\end{gather}\n",
    "$$\n",
    "If $Cb$ is a pivot column, then the system is unsolvable, else it is consistent and has one or more solutions."
   ]
  },
  {
   "cell_type": "code",
   "execution_count": 833,
   "metadata": {},
   "outputs": [
    {
     "data": {
      "text/plain": [
       "rankconsistency (generic function with 1 method)"
      ]
     },
     "execution_count": 833,
     "metadata": {},
     "output_type": "execute_result"
    }
   ],
   "source": [
    "function rankconsistency(A::Matrix{Int64}, b::Vector{Int64})\n",
    "    consistent::Bool = false\n",
    "    AugmentedMat = Augment(A, b)\n",
    "    U = UpperEchelon(AugmentedMat)\n",
    "    R = RowReduction(U)\n",
    "    return r, U, consistent\n",
    "end \n"
   ]
  },
  {
   "cell_type": "code",
   "execution_count": 834,
   "metadata": {},
   "outputs": [
    {
     "data": {
      "text/plain": [
       "Augment (generic function with 1 method)"
      ]
     },
     "execution_count": 834,
     "metadata": {},
     "output_type": "execute_result"
    }
   ],
   "source": [
    "function Augment(A, b)\n",
    "    return [A b]\n",
    "end"
   ]
  },
  {
   "cell_type": "code",
   "execution_count": 835,
   "metadata": {},
   "outputs": [
    {
     "data": {
      "text/plain": [
       "AddGf (generic function with 1 method)"
      ]
     },
     "execution_count": 835,
     "metadata": {},
     "output_type": "execute_result"
    }
   ],
   "source": [
    "## Addition Table\n",
    "function AddGf(i, j)\n",
    "Add_matrix = [  0 1 2 3  ;  1  0  3  2 ; 2 3 0 1 ; 3 2 1 0 ]\n",
    "    return Add_matrix[i+1, j+1]\n",
    "end"
   ]
  },
  {
   "cell_type": "code",
   "execution_count": 836,
   "metadata": {},
   "outputs": [
    {
     "data": {
      "text/plain": [
       "MulGf (generic function with 1 method)"
      ]
     },
     "execution_count": 836,
     "metadata": {},
     "output_type": "execute_result"
    }
   ],
   "source": [
    "## Multiplication table\n",
    "function MulGf(i, j)\n",
    "    Mul_matrix = [ 0 0 0 0 ; 0  1  2  3 ; 0  2  3  1 ; 0 3 1 2 ]  \n",
    "    return Mul_matrix[i+1, j+1]\n",
    "end"
   ]
  },
  {
   "cell_type": "code",
   "execution_count": 837,
   "metadata": {},
   "outputs": [
    {
     "data": {
      "text/plain": [
       "InvGf (generic function with 1 method)"
      ]
     },
     "execution_count": 837,
     "metadata": {},
     "output_type": "execute_result"
    }
   ],
   "source": [
    "Inv_vec = [1, 3, 2]\n",
    "function InvGf(i)\n",
    "    return Inv_vec[i]\n",
    "end"
   ]
  },
  {
   "cell_type": "code",
   "execution_count": 838,
   "metadata": {},
   "outputs": [
    {
     "data": {
      "text/plain": [
       "RowReduction"
      ]
     },
     "execution_count": 838,
     "metadata": {},
     "output_type": "execute_result"
    }
   ],
   "source": [
    "\"\"\"\n",
    "This function will row reduce an upper Echelon form matrix to a reduced echelon form\n",
    "    U -> R\n",
    "\"\"\"\n",
    "function RowReduction(U::Matrix{Int64})\n",
    "    \n",
    "    # for i in range()\n",
    "end"
   ]
  },
  {
   "cell_type": "code",
   "execution_count": 839,
   "metadata": {},
   "outputs": [
    {
     "data": {
      "text/plain": [
       "UpperEchelon (generic function with 1 method)"
      ]
     },
     "execution_count": 839,
     "metadata": {},
     "output_type": "execute_result"
    }
   ],
   "source": [
    "function UpperEchelon(A)\n",
    "    for i in 1:size(A,1) - 1\n",
    "        PartialPivot(A, i)\n",
    "        PivotSubtract(A,i)\n",
    "    end\n",
    "end"
   ]
  },
  {
   "cell_type": "code",
   "execution_count": 840,
   "metadata": {},
   "outputs": [
    {
     "data": {
      "text/plain": [
       "PartialPivot (generic function with 1 method)"
      ]
     },
     "execution_count": 840,
     "metadata": {},
     "output_type": "execute_result"
    }
   ],
   "source": [
    "function PartialPivot(A, row)\n",
    "    maxIndex = row \n",
    "    maxElement = A[row, row]\n",
    "    isZeroCol = true \n",
    "    for i in row:size(A, 1) \n",
    "        if(A[i, row] != 0)\n",
    "            isZeroCol = false\n",
    "        end\n",
    "\n",
    "        if(A[maxIndex, row] < A[i, row])\n",
    "            maxIndex = i\n",
    "            maxElement = A[i, row]\n",
    "        else\n",
    "            continue\n",
    "        end\n",
    "    end\n",
    "\n",
    "    if(row != maxIndex)\n",
    "    @printf(\"Exchanging row %d woth row %d\", (row, maxIndex))\n",
    "    temp = A[row,:]\n",
    "    A[row, :] = A[maxIndex, :]\n",
    "    A[maxIndex , :] = temp\n",
    "    end\n",
    "end"
   ]
  },
  {
   "cell_type": "code",
   "execution_count": 841,
   "metadata": {},
   "outputs": [
    {
     "data": {
      "text/plain": [
       "PivotSubtract (generic function with 1 method)"
      ]
     },
     "execution_count": 841,
     "metadata": {},
     "output_type": "execute_result"
    }
   ],
   "source": [
    "#=\n",
    "* This function takes in the rows i and j assuming row i is a pivot columns and eliminates the entry in row j correspoinding to column i \n",
    "* Precondition : Element A(i, i) has an Inverse , i.e partial Pivoting is complete\n",
    "* Returns: Modified Matrix A after eliminating on all the Rows, below pivot_row.\n",
    "=#\n",
    "function PivotSubtract(A, pivot_row)\n",
    "    for i in pivot_row + 1:size(A, 1)\n",
    "        RowSubtract(A,pivot_row, i)\n",
    "    end \n",
    "end"
   ]
  },
  {
   "cell_type": "code",
   "execution_count": 842,
   "metadata": {},
   "outputs": [
    {
     "data": {
      "text/plain": [
       "RowSubtract (generic function with 1 method)"
      ]
     },
     "execution_count": 842,
     "metadata": {},
     "output_type": "execute_result"
    }
   ],
   "source": [
    "#=\n",
    "* This function takes in the rows i and j assuming row i is a pivot columns and eliminates the entry in row j correspoinding to column i \n",
    "* Precondition : Element A(i, i) has an Inverse\n",
    "* Returns: Modified Matrix A after eliminating on Row j\n",
    "=#\n",
    "function RowSubtract(A, i, j)\n",
    "    @printf(\"Subtracting Row %d from Row %d \\n\", i , j)\n",
    "    factor = MulGf(InvGf(A[i , i]), A[j, i])\n",
    "    @printf(\"factor of subtraction = %d \\n\",factor)\n",
    "    for index in i:size(A, 2)\n",
    "        A[j , index] = AddGf(A[j , index], MulGf( A[i, index] ,factor))\n",
    "    end\n",
    "end"
   ]
  },
  {
   "cell_type": "code",
   "execution_count": 843,
   "metadata": {},
   "outputs": [
    {
     "data": {
      "text/plain": [
       "RowSubtractNew (generic function with 1 method)"
      ]
     },
     "execution_count": 843,
     "metadata": {},
     "output_type": "execute_result"
    }
   ],
   "source": [
    "\"\"\"\n",
    "Precondition : Matrix has Non zero element in pivot_row and pivot_col. (depends on the OP of the function PartialPivotNew)\n",
    "Args : Pivot column and Pivot Row ( Postion of the pivot and then it makes zero , beneath it) \n",
    "Returns: Matirx with Reduced Row j.\n",
    "\"\"\"\n",
    "\n",
    "function RowSubtractNew(A, pivot_row, pivot_col, j)\n",
    "    @printf(\"Subtracting Row %d from Row %d \\n\", pivot_row , j)\n",
    "    factor = MulGf(InvGf(A[pivot_row , pivot_col]), A[j, pivot_col])\n",
    "    @printf(\"factor of subtraction = %d \\n\",factor)\n",
    "    for index in pivot_col:size(A, 2)\n",
    "        A[j , index] = AddGf(A[j , index], MulGf( A[pivot_row, index] ,factor))\n",
    "    end\n",
    "end"
   ]
  },
  {
   "cell_type": "code",
   "execution_count": 844,
   "metadata": {},
   "outputs": [
    {
     "data": {
      "text/plain": [
       "PartialPivotNew"
      ]
     },
     "execution_count": 844,
     "metadata": {},
     "output_type": "execute_result"
    }
   ],
   "source": [
    "\"\"\"\n",
    "This function creates a Pivot by finding the maximum element in the particular pivot column\n",
    "and then performs an exchange of the row\n",
    "Precondition: The previous positions are all zero\n",
    "Args: Matrix and Position of the ***Supposed*** Next Pivot\n",
    "Returns: Matrix and Boolean. \n",
    "Boolean = True if Pivot was found\n",
    "        = False if No Pivot was found \n",
    "\"\"\"\n",
    "function PartialPivotNew(A, sup_pivot_row, sup_pivot_col)\n",
    "    maxIndex = sup_pivot_row \n",
    "    maxElement = A[sup_pivot_row, sup_pivot_col]\n",
    "    isZeroCol = true \n",
    "    for i in sup_pivot_row:size(A, 1) \n",
    "        if(A[i, sup_pivot_col] != 0)\n",
    "            isZeroCol = false\n",
    "        end\n",
    "\n",
    "        if(A[maxIndex, sup_pivot_col] < A[i, sup_pivot_col])\n",
    "            maxIndex = i\n",
    "            maxElement = A[i, sup_pivot_col]\n",
    "        else\n",
    "            continue\n",
    "        end\n",
    "    end\n",
    "    #some optimizations could be done here ?\n",
    "    if(sup_pivot_row != maxIndex)\n",
    "    @printf(\"Exchanging row %d woth row %d\", sup_pivot_row, maxIndex)\n",
    "    temp = A[sup_pivot_row,:]\n",
    "    A[sup_pivot_row, :] = A[maxIndex, :]\n",
    "    A[maxIndex , :] = temp\n",
    "    end\n",
    "\n",
    "    return A,isZeroCol\n",
    "\n",
    "end"
   ]
  },
  {
   "cell_type": "code",
   "execution_count": 845,
   "metadata": {},
   "outputs": [
    {
     "data": {
      "text/plain": [
       "PivotSubtractNew (generic function with 1 method)"
      ]
     },
     "execution_count": 845,
     "metadata": {},
     "output_type": "execute_result"
    }
   ],
   "source": [
    "\"\"\" \n",
    "Precondition: This function assumes that this row has alread a pivot at pivot_row and pivot_col\n",
    "Args : The pivot_row\n",
    "Returns : The Matrix after Finding the Pivot on this Particular row\n",
    "\"\"\"\n",
    "\n",
    "function PivotSubtractNew(A, pivot_row, pivot_col)\n",
    "    for i in pivot_row+1:size(A, 1)\n",
    "        RowSubtractNew(A, pivot_row, pivot_col, i)\n",
    "    end\n",
    "end"
   ]
  },
  {
   "cell_type": "code",
   "execution_count": 846,
   "metadata": {},
   "outputs": [
    {
     "data": {
      "text/plain": [
       "UpperEchelonNew"
      ]
     },
     "execution_count": 846,
     "metadata": {},
     "output_type": "execute_result"
    }
   ],
   "source": [
    "\"\"\"\n",
    "This function creates a row reduced Echelon form of A  using RSNew, PSNew, PPNew.\n",
    "\"\"\"\n",
    "function UpperEchelonNew(A)\n",
    "    tag = zeros(Int64, size(A, 2))\n",
    "    col = 1\n",
    "    for row in 1:size(A, 1) - 1\n",
    "        isZeroCol = true\n",
    "        while(isZeroCol && col <= size(A,2))\n",
    "            A, isZeroCol = PartialPivotNew(A, row, col)\n",
    "            if(isZeroCol)\n",
    "                @printf(\"The column %d is a Zero Column \\n\", col)\n",
    "                col = col + 1\n",
    "            end\n",
    "        end\n",
    "\n",
    "        if(!isZeroCol)\n",
    "            display(A)\n",
    "            @printf(\"(%d, %d) is a pivot position\\n\", row, col)\n",
    "            tag[col] = 1\n",
    "            pivot_row = row\n",
    "            pivot_col = col\n",
    "            PivotSubtractNew(A, pivot_row, pivot_col)\n",
    "            #start next time with the next column, this column has been analyzed3 now\n",
    "        end\n",
    "\n",
    "        if(col > size(A, 2))\n",
    "            #Now no more rows need to be checked since there are no spaces for pivots left( all zeroes beneath me anyway)\n",
    "            @printf(\"Ending the Process prematurely at row = %d\\n\",  row)\n",
    "            break\n",
    "        end\n",
    "\n",
    "        if(row == size(A, 1) - 1)\n",
    "            #then we need to check the position in which the last row has a pivot(if it has one )\n",
    "            println(\"Inside the check for the final Row Pivot\")\n",
    "            for column in col+1:size(A, 2)\n",
    "                if(A[row+1, column] > 0)\n",
    "                    tag[column] = tag[column] + 1\n",
    "                    break #crucial\n",
    "                end\n",
    "            end\n",
    "        end\n",
    "        \n",
    "        col = col + 1\n",
    "    end\n",
    "\n",
    "    consistent = false\n",
    "    if(tag[size(A, 2)] == 0)\n",
    "        consistent = true\n",
    "    end\n",
    "\n",
    "    Rank = sum(tag) - tag[size(A, 2)]\n",
    "    println(\"Rank = \",Rank)\n",
    "    println(\"Consistent = \",consistent)\n",
    "    println(tag)\n",
    "\n",
    "    return consistent,Rank,tag\n",
    "\n",
    "end"
   ]
  },
  {
   "cell_type": "code",
   "execution_count": 847,
   "metadata": {},
   "outputs": [
    {
     "data": {
      "text/plain": [
       "3×5 Matrix{Int64}:\n",
       " 1  3  3  3  1\n",
       " 2  2  3  2  1\n",
       " 1  2  2  3  2"
      ]
     },
     "metadata": {},
     "output_type": "display_data"
    }
   ],
   "source": [
    "AugmentedMatrix = Augment(A, b)\n",
    "display(AugmentedMatrix)\n"
   ]
  },
  {
   "cell_type": "code",
   "execution_count": 848,
   "metadata": {},
   "outputs": [
    {
     "data": {
      "text/plain": [
       "4×4 Matrix{Int64}:\n",
       " 1  0  0  0\n",
       " 3  2  0  0\n",
       " 0  0  0  0\n",
       " 0  0  0  0"
      ]
     },
     "metadata": {},
     "output_type": "display_data"
    },
    {
     "name": "stdout",
     "output_type": "stream",
     "text": [
      "Exchanging row 1 woth row 2"
     ]
    },
    {
     "data": {
      "text/plain": [
       "4×4 Matrix{Int64}:\n",
       " 3  2  0  0\n",
       " 1  0  0  0\n",
       " 0  0  0  0\n",
       " 0  0  0  0"
      ]
     },
     "metadata": {},
     "output_type": "display_data"
    }
   ],
   "source": [
    "B = zeros(Int64, 4, 4)\n",
    "B[1,1] = 1\n",
    "B[2,1] = 3\n",
    "B[2,2] = 2\n",
    "display(B)\n",
    "PartialPivotNew(B, 1, 1)\n",
    "display(B)"
   ]
  },
  {
   "cell_type": "code",
   "execution_count": 849,
   "metadata": {},
   "outputs": [
    {
     "name": "stdout",
     "output_type": "stream",
     "text": [
      "Exchanging row 1 woth row 2"
     ]
    },
    {
     "data": {
      "text/plain": [
       "3×5 Matrix{Int64}:\n",
       " 2  2  3  2  1\n",
       " 1  3  3  3  1\n",
       " 1  2  2  3  2"
      ]
     },
     "metadata": {},
     "output_type": "display_data"
    },
    {
     "name": "stdout",
     "output_type": "stream",
     "text": [
      "(1, 1) is a pivot position\n",
      "Subtracting Row 1 from Row 2 \n",
      "factor of subtraction = 3 \n",
      "Subtracting Row 1 from Row 3 \n",
      "factor of subtraction = 3 \n",
      "Exchanging row 2 woth row 3"
     ]
    },
    {
     "data": {
      "text/plain": [
       "3×5 Matrix{Int64}:\n",
       " 2  2  3  2  1\n",
       " 0  3  0  2  1\n",
       " 0  2  1  2  2"
      ]
     },
     "metadata": {},
     "output_type": "display_data"
    },
    {
     "name": "stdout",
     "output_type": "stream",
     "text": [
      "(2, 2) is a pivot position\n",
      "Subtracting Row 2 from Row 3 \n",
      "factor of subtraction = 3 \n",
      "Inside the check for the final Row Pivot\n",
      "Rank = 3\n",
      "Consistent = true\n",
      "[1, 1, 1, 0, 0]\n"
     ]
    },
    {
     "data": {
      "text/plain": [
       "3×5 Matrix{Int64}:\n",
       " 2  2  3  2  1\n",
       " 0  3  0  2  1\n",
       " 0  0  1  3  1"
      ]
     },
     "metadata": {},
     "output_type": "display_data"
    }
   ],
   "source": [
    "UpperEchelonNew(AugmentedMatrix)\n",
    "display(AugmentedMatrix)"
   ]
  },
  {
   "cell_type": "code",
   "execution_count": 850,
   "metadata": {},
   "outputs": [],
   "source": [
    "# function test_ref(a)\n",
    "#     a = a + 1\n",
    "#     println(a)\n",
    "# end"
   ]
  },
  {
   "cell_type": "code",
   "execution_count": 851,
   "metadata": {},
   "outputs": [],
   "source": [
    "# b = 3\n",
    "# test_ref(b)\n",
    "# print(b)"
   ]
  }
 ],
 "metadata": {
  "kernelspec": {
   "display_name": "Julia 1.7.3",
   "language": "julia",
   "name": "julia-1.7"
  },
  "language_info": {
   "file_extension": ".jl",
   "mimetype": "application/julia",
   "name": "julia",
   "version": "1.7.3"
  },
  "orig_nbformat": 4
 },
 "nbformat": 4,
 "nbformat_minor": 2
}
